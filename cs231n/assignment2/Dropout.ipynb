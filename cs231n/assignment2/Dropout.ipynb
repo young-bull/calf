{
 "cells": [
  {
   "cell_type": "markdown",
   "metadata": {
    "deletable": true,
    "editable": true
   },
   "source": [
    "# Dropout\n",
    "Dropout [1] is a technique for regularizing neural networks by randomly setting some features to zero during the forward pass. In this exercise you will implement a dropout layer and modify your fully-connected network to optionally use dropout.\n",
    "\n",
    "[1] Geoffrey E. Hinton et al, \"Improving neural networks by preventing co-adaptation of feature detectors\", arXiv 2012"
   ]
  },
  {
   "cell_type": "code",
   "execution_count": 2,
   "metadata": {
    "collapsed": false,
    "deletable": true,
    "editable": true
   },
   "outputs": [
    {
     "name": "stdout",
     "output_type": "stream",
     "text": [
      "The autoreload extension is already loaded. To reload it, use:\n",
      "  %reload_ext autoreload\n"
     ]
    }
   ],
   "source": [
    "# As usual, a bit of setup\n",
    "from __future__ import print_function\n",
    "import time\n",
    "import numpy as np\n",
    "import matplotlib.pyplot as plt\n",
    "from cs231n.classifiers.fc_net import *\n",
    "from cs231n.data_utils import get_CIFAR10_data\n",
    "from cs231n.gradient_check import eval_numerical_gradient, eval_numerical_gradient_array\n",
    "from cs231n.solver import Solver\n",
    "\n",
    "%matplotlib inline\n",
    "plt.rcParams['figure.figsize'] = (10.0, 8.0) # set default size of plots\n",
    "plt.rcParams['image.interpolation'] = 'nearest'\n",
    "plt.rcParams['image.cmap'] = 'gray'\n",
    "\n",
    "# for auto-reloading external modules\n",
    "# see http://stackoverflow.com/questions/1907993/autoreload-of-modules-in-ipython\n",
    "%load_ext autoreload\n",
    "%autoreload 2\n",
    "\n",
    "def rel_error(x, y):\n",
    "  \"\"\" returns relative error \"\"\"\n",
    "  return np.max(np.abs(x - y) / (np.maximum(1e-8, np.abs(x) + np.abs(y))))"
   ]
  },
  {
   "cell_type": "code",
   "execution_count": 3,
   "metadata": {
    "collapsed": false,
    "deletable": true,
    "editable": true
   },
   "outputs": [
    {
     "name": "stdout",
     "output_type": "stream",
     "text": [
      "X_val:  (1000, 3, 32, 32)\n",
      "X_train:  (49000, 3, 32, 32)\n",
      "X_test:  (1000, 3, 32, 32)\n",
      "y_val:  (1000,)\n",
      "y_train:  (49000,)\n",
      "y_test:  (1000,)\n"
     ]
    }
   ],
   "source": [
    "# Load the (preprocessed) CIFAR10 data.\n",
    "\n",
    "data = get_CIFAR10_data()\n",
    "for k, v in data.items():\n",
    "  print('%s: ' % k, v.shape)"
   ]
  },
  {
   "cell_type": "markdown",
   "metadata": {
    "deletable": true,
    "editable": true
   },
   "source": [
    "# Dropout forward pass\n",
    "In the file `cs231n/layers.py`, implement the forward pass for dropout. Since dropout behaves differently during training and testing, make sure to implement the operation for both modes.\n",
    "\n",
    "Once you have done so, run the cell below to test your implementation."
   ]
  },
  {
   "cell_type": "code",
   "execution_count": 8,
   "metadata": {
    "collapsed": false,
    "deletable": true,
    "editable": true
   },
   "outputs": [
    {
     "name": "stdout",
     "output_type": "stream",
     "text": [
      "Running tests with p =  0.3\n",
      "Mean of input:  10.0002078785\n",
      "Mean of train-time output:  10.0350727971\n",
      "Mean of test-time output:  10.0002078785\n",
      "Fraction of train-time output set to zero:  0.699124\n",
      "Fraction of test-time output set to zero:  0.0\n",
      "\n",
      "Running tests with p =  0.6\n",
      "Mean of input:  10.0002078785\n",
      "Mean of train-time output:  9.97691075877\n",
      "Mean of test-time output:  10.0002078785\n",
      "Fraction of train-time output set to zero:  0.401368\n",
      "Fraction of test-time output set to zero:  0.0\n",
      "\n",
      "Running tests with p =  0.75\n",
      "Mean of input:  10.0002078785\n",
      "Mean of train-time output:  9.99306858826\n",
      "Mean of test-time output:  10.0002078785\n",
      "Fraction of train-time output set to zero:  0.250496\n",
      "Fraction of test-time output set to zero:  0.0\n",
      "\n"
     ]
    }
   ],
   "source": [
    "np.random.seed(231)\n",
    "x = np.random.randn(500, 500) + 10\n",
    "\n",
    "for p in [0.3, 0.6, 0.75]:\n",
    "    out, _ = dropout_forward(x, {'mode': 'train', 'p': p})\n",
    "    out_test, _ = dropout_forward(x, {'mode': 'test', 'p': p})\n",
    "\n",
    "    print('Running tests with p = ', p)\n",
    "    print('Mean of input: ', x.mean())\n",
    "    print('Mean of train-time output: ', out.mean())\n",
    "    print('Mean of test-time output: ', out_test.mean())\n",
    "    print('Fraction of train-time output set to zero: ', (out == 0).mean())\n",
    "    print('Fraction of test-time output set to zero: ', (out_test == 0).mean())\n",
    "    print()"
   ]
  },
  {
   "cell_type": "markdown",
   "metadata": {
    "deletable": true,
    "editable": true
   },
   "source": [
    "# Dropout backward pass\n",
    "In the file `cs231n/layers.py`, implement the backward pass for dropout. After doing so, run the following cell to numerically gradient-check your implementation."
   ]
  },
  {
   "cell_type": "code",
   "execution_count": 10,
   "metadata": {
    "collapsed": false,
    "deletable": true,
    "editable": true
   },
   "outputs": [
    {
     "name": "stdout",
     "output_type": "stream",
     "text": [
      "dx relative error:  5.44561271827e-11\n"
     ]
    }
   ],
   "source": [
    "np.random.seed(231)\n",
    "x = np.random.randn(10, 10) + 10\n",
    "dout = np.random.randn(*x.shape)\n",
    "\n",
    "dropout_param = {'mode': 'train', 'p': 0.8, 'seed': 123}\n",
    "out, cache = dropout_forward(x, dropout_param)\n",
    "dx = dropout_backward(dout, cache)\n",
    "dx_num = eval_numerical_gradient_array(lambda xx: dropout_forward(xx, dropout_param)[0], x, dout)\n",
    "\n",
    "print('dx relative error: ', rel_error(dx, dx_num))"
   ]
  },
  {
   "cell_type": "markdown",
   "metadata": {
    "deletable": true,
    "editable": true
   },
   "source": [
    "# Fully-connected nets with Dropout\n",
    "In the file `cs231n/classifiers/fc_net.py`, modify your implementation to use dropout. Specificially, if the constructor the the net receives a nonzero value for the `dropout` parameter, then the net should add dropout immediately after every ReLU nonlinearity. After doing so, run the following to numerically gradient-check your implementation."
   ]
  },
  {
   "cell_type": "code",
   "execution_count": 11,
   "metadata": {
    "collapsed": false,
    "deletable": true,
    "editable": true
   },
   "outputs": [
    {
     "name": "stdout",
     "output_type": "stream",
     "text": [
      "Running check with dropout =  0\n",
      "Initial loss:  2.30047908977\n",
      "W1 relative error: 1.48e-07\n",
      "W2 relative error: 2.21e-05\n",
      "W3 relative error: 3.53e-07\n",
      "b1 relative error: 5.38e-09\n",
      "b2 relative error: 2.09e-09\n",
      "b3 relative error: 5.80e-11\n",
      "\n",
      "Running check with dropout =  0.25\n",
      "Initial loss:  2.29243250883\n",
      "W1 relative error: 2.74e-08\n",
      "W2 relative error: 2.98e-09\n",
      "W3 relative error: 4.29e-09\n",
      "b1 relative error: 7.78e-10\n",
      "b2 relative error: 3.36e-10\n",
      "b3 relative error: 1.65e-10\n",
      "\n",
      "Running check with dropout =  0.5\n",
      "Initial loss:  2.30427592208\n",
      "W1 relative error: 3.11e-07\n",
      "W2 relative error: 1.84e-08\n",
      "W3 relative error: 5.35e-08\n",
      "b1 relative error: 2.58e-08\n",
      "b2 relative error: 2.99e-09\n",
      "b3 relative error: 9.54e-11\n",
      "\n"
     ]
    }
   ],
   "source": [
    "np.random.seed(231)\n",
    "N, D, H1, H2, C = 2, 15, 20, 30, 10\n",
    "X = np.random.randn(N, D)\n",
    "y = np.random.randint(C, size=(N,))\n",
    "\n",
    "for dropout in [0, 0.25, 0.5]:\n",
    "    print('Running check with dropout = ', dropout)\n",
    "    model = FullyConnectedNet([H1, H2], input_dim=D, num_classes=C,\n",
    "                            weight_scale=5e-2, dtype=np.float64,\n",
    "                            dropout=dropout, seed=123)\n",
    "\n",
    "    loss, grads = model.loss(X, y)\n",
    "    print('Initial loss: ', loss)\n",
    "\n",
    "    for name in sorted(grads):\n",
    "        f = lambda _: model.loss(X, y)[0]\n",
    "        grad_num = eval_numerical_gradient(f, model.params[name], verbose=False, h=1e-5)\n",
    "        print('%s relative error: %.2e' % (name, rel_error(grad_num, grads[name])))\n",
    "    print()"
   ]
  },
  {
   "cell_type": "markdown",
   "metadata": {
    "deletable": true,
    "editable": true
   },
   "source": [
    "# Regularization experiment\n",
    "As an experiment, we will train a pair of two-layer networks on 500 training examples: one will use no dropout, and one will use a dropout probability of 0.75. We will then visualize the training and validation accuracies of the two networks over time."
   ]
  },
  {
   "cell_type": "code",
   "execution_count": 32,
   "metadata": {
    "collapsed": false,
    "deletable": true,
    "editable": true,
    "scrolled": false
   },
   "outputs": [
    {
     "name": "stdout",
     "output_type": "stream",
     "text": [
      "0\n",
      "(Iteration 1 / 200) loss: 7.982705\n",
      "(Epoch 0 / 100) train acc: 0.246000; val_acc: 0.198000\n",
      "(Epoch 1 / 100) train acc: 0.198000; val_acc: 0.171000\n",
      "(Epoch 2 / 100) train acc: 0.268000; val_acc: 0.208000\n",
      "(Epoch 3 / 100) train acc: 0.304000; val_acc: 0.182000\n",
      "(Epoch 4 / 100) train acc: 0.390000; val_acc: 0.268000\n",
      "(Epoch 5 / 100) train acc: 0.404000; val_acc: 0.256000\n",
      "(Epoch 6 / 100) train acc: 0.474000; val_acc: 0.281000\n",
      "(Epoch 7 / 100) train acc: 0.484000; val_acc: 0.264000\n",
      "(Epoch 8 / 100) train acc: 0.476000; val_acc: 0.223000\n",
      "(Epoch 9 / 100) train acc: 0.704000; val_acc: 0.288000\n",
      "(Epoch 10 / 100) train acc: 0.678000; val_acc: 0.270000\n",
      "(Epoch 11 / 100) train acc: 0.710000; val_acc: 0.290000\n",
      "(Epoch 12 / 100) train acc: 0.830000; val_acc: 0.294000\n",
      "(Epoch 13 / 100) train acc: 0.880000; val_acc: 0.300000\n",
      "(Epoch 14 / 100) train acc: 0.838000; val_acc: 0.291000\n",
      "(Epoch 15 / 100) train acc: 0.908000; val_acc: 0.307000\n",
      "(Epoch 16 / 100) train acc: 0.926000; val_acc: 0.303000\n",
      "(Epoch 17 / 100) train acc: 0.912000; val_acc: 0.314000\n",
      "(Epoch 18 / 100) train acc: 0.968000; val_acc: 0.308000\n",
      "(Epoch 19 / 100) train acc: 0.950000; val_acc: 0.316000\n",
      "(Epoch 20 / 100) train acc: 0.976000; val_acc: 0.308000\n",
      "(Epoch 21 / 100) train acc: 0.992000; val_acc: 0.326000\n",
      "(Epoch 22 / 100) train acc: 1.000000; val_acc: 0.309000\n",
      "(Epoch 23 / 100) train acc: 1.000000; val_acc: 0.314000\n",
      "(Epoch 24 / 100) train acc: 1.000000; val_acc: 0.313000\n",
      "(Epoch 25 / 100) train acc: 1.000000; val_acc: 0.313000\n",
      "(Epoch 26 / 100) train acc: 1.000000; val_acc: 0.313000\n",
      "(Epoch 27 / 100) train acc: 1.000000; val_acc: 0.314000\n",
      "(Epoch 28 / 100) train acc: 1.000000; val_acc: 0.314000\n",
      "(Epoch 29 / 100) train acc: 1.000000; val_acc: 0.315000\n",
      "(Epoch 30 / 100) train acc: 1.000000; val_acc: 0.315000\n",
      "(Epoch 31 / 100) train acc: 1.000000; val_acc: 0.315000\n",
      "(Epoch 32 / 100) train acc: 1.000000; val_acc: 0.315000\n",
      "(Epoch 33 / 100) train acc: 1.000000; val_acc: 0.315000\n",
      "(Epoch 34 / 100) train acc: 1.000000; val_acc: 0.315000\n",
      "(Epoch 35 / 100) train acc: 1.000000; val_acc: 0.315000\n",
      "(Epoch 36 / 100) train acc: 1.000000; val_acc: 0.315000\n",
      "(Epoch 37 / 100) train acc: 1.000000; val_acc: 0.314000\n",
      "(Epoch 38 / 100) train acc: 1.000000; val_acc: 0.315000\n",
      "(Epoch 39 / 100) train acc: 1.000000; val_acc: 0.315000\n",
      "(Epoch 40 / 100) train acc: 1.000000; val_acc: 0.315000\n",
      "(Epoch 41 / 100) train acc: 1.000000; val_acc: 0.315000\n",
      "(Epoch 42 / 100) train acc: 1.000000; val_acc: 0.315000\n",
      "(Epoch 43 / 100) train acc: 1.000000; val_acc: 0.315000\n",
      "(Epoch 44 / 100) train acc: 1.000000; val_acc: 0.315000\n",
      "(Epoch 45 / 100) train acc: 1.000000; val_acc: 0.316000\n",
      "(Epoch 46 / 100) train acc: 1.000000; val_acc: 0.316000\n",
      "(Epoch 47 / 100) train acc: 1.000000; val_acc: 0.316000\n",
      "(Epoch 48 / 100) train acc: 1.000000; val_acc: 0.316000\n",
      "(Epoch 49 / 100) train acc: 1.000000; val_acc: 0.315000\n",
      "(Epoch 50 / 100) train acc: 1.000000; val_acc: 0.316000\n",
      "(Iteration 101 / 200) loss: 0.000146\n",
      "(Epoch 51 / 100) train acc: 1.000000; val_acc: 0.315000\n",
      "(Epoch 52 / 100) train acc: 1.000000; val_acc: 0.315000\n",
      "(Epoch 53 / 100) train acc: 1.000000; val_acc: 0.315000\n",
      "(Epoch 54 / 100) train acc: 1.000000; val_acc: 0.315000\n",
      "(Epoch 55 / 100) train acc: 1.000000; val_acc: 0.315000\n",
      "(Epoch 56 / 100) train acc: 1.000000; val_acc: 0.314000\n",
      "(Epoch 57 / 100) train acc: 1.000000; val_acc: 0.315000\n",
      "(Epoch 58 / 100) train acc: 1.000000; val_acc: 0.315000\n",
      "(Epoch 59 / 100) train acc: 1.000000; val_acc: 0.316000\n",
      "(Epoch 60 / 100) train acc: 1.000000; val_acc: 0.316000\n",
      "(Epoch 61 / 100) train acc: 1.000000; val_acc: 0.315000\n",
      "(Epoch 62 / 100) train acc: 1.000000; val_acc: 0.315000\n",
      "(Epoch 63 / 100) train acc: 1.000000; val_acc: 0.314000\n",
      "(Epoch 64 / 100) train acc: 1.000000; val_acc: 0.314000\n",
      "(Epoch 65 / 100) train acc: 1.000000; val_acc: 0.313000\n",
      "(Epoch 66 / 100) train acc: 1.000000; val_acc: 0.313000\n",
      "(Epoch 67 / 100) train acc: 1.000000; val_acc: 0.313000\n",
      "(Epoch 68 / 100) train acc: 1.000000; val_acc: 0.313000\n",
      "(Epoch 69 / 100) train acc: 1.000000; val_acc: 0.313000\n",
      "(Epoch 70 / 100) train acc: 1.000000; val_acc: 0.313000\n",
      "(Epoch 71 / 100) train acc: 1.000000; val_acc: 0.313000\n",
      "(Epoch 72 / 100) train acc: 1.000000; val_acc: 0.313000\n",
      "(Epoch 73 / 100) train acc: 1.000000; val_acc: 0.313000\n",
      "(Epoch 74 / 100) train acc: 1.000000; val_acc: 0.313000\n",
      "(Epoch 75 / 100) train acc: 1.000000; val_acc: 0.314000\n",
      "(Epoch 76 / 100) train acc: 1.000000; val_acc: 0.314000\n",
      "(Epoch 77 / 100) train acc: 1.000000; val_acc: 0.314000\n",
      "(Epoch 78 / 100) train acc: 1.000000; val_acc: 0.314000\n",
      "(Epoch 79 / 100) train acc: 1.000000; val_acc: 0.314000\n",
      "(Epoch 80 / 100) train acc: 1.000000; val_acc: 0.314000\n",
      "(Epoch 81 / 100) train acc: 1.000000; val_acc: 0.314000\n",
      "(Epoch 82 / 100) train acc: 1.000000; val_acc: 0.314000\n",
      "(Epoch 83 / 100) train acc: 1.000000; val_acc: 0.314000\n",
      "(Epoch 84 / 100) train acc: 1.000000; val_acc: 0.314000\n",
      "(Epoch 85 / 100) train acc: 1.000000; val_acc: 0.314000\n",
      "(Epoch 86 / 100) train acc: 1.000000; val_acc: 0.314000\n",
      "(Epoch 87 / 100) train acc: 1.000000; val_acc: 0.314000\n",
      "(Epoch 88 / 100) train acc: 1.000000; val_acc: 0.314000\n",
      "(Epoch 89 / 100) train acc: 1.000000; val_acc: 0.314000\n",
      "(Epoch 90 / 100) train acc: 1.000000; val_acc: 0.314000\n",
      "(Epoch 91 / 100) train acc: 1.000000; val_acc: 0.314000\n",
      "(Epoch 92 / 100) train acc: 1.000000; val_acc: 0.314000\n",
      "(Epoch 93 / 100) train acc: 1.000000; val_acc: 0.314000\n",
      "(Epoch 94 / 100) train acc: 1.000000; val_acc: 0.314000\n",
      "(Epoch 95 / 100) train acc: 1.000000; val_acc: 0.314000\n",
      "(Epoch 96 / 100) train acc: 1.000000; val_acc: 0.314000\n",
      "(Epoch 97 / 100) train acc: 1.000000; val_acc: 0.314000\n",
      "(Epoch 98 / 100) train acc: 1.000000; val_acc: 0.314000\n",
      "(Epoch 99 / 100) train acc: 1.000000; val_acc: 0.314000\n",
      "(Epoch 100 / 100) train acc: 1.000000; val_acc: 0.314000\n",
      "0.75\n",
      "(Iteration 1 / 200) loss: 8.884727\n",
      "(Epoch 0 / 100) train acc: 0.206000; val_acc: 0.157000\n",
      "(Epoch 1 / 100) train acc: 0.252000; val_acc: 0.169000\n",
      "(Epoch 2 / 100) train acc: 0.244000; val_acc: 0.216000\n",
      "(Epoch 3 / 100) train acc: 0.270000; val_acc: 0.193000\n",
      "(Epoch 4 / 100) train acc: 0.430000; val_acc: 0.278000\n",
      "(Epoch 5 / 100) train acc: 0.470000; val_acc: 0.248000\n",
      "(Epoch 6 / 100) train acc: 0.548000; val_acc: 0.259000\n",
      "(Epoch 7 / 100) train acc: 0.592000; val_acc: 0.286000\n",
      "(Epoch 8 / 100) train acc: 0.692000; val_acc: 0.308000\n",
      "(Epoch 9 / 100) train acc: 0.692000; val_acc: 0.267000\n",
      "(Epoch 10 / 100) train acc: 0.742000; val_acc: 0.298000\n",
      "(Epoch 11 / 100) train acc: 0.780000; val_acc: 0.296000\n",
      "(Epoch 12 / 100) train acc: 0.804000; val_acc: 0.318000\n",
      "(Epoch 13 / 100) train acc: 0.848000; val_acc: 0.337000\n",
      "(Epoch 14 / 100) train acc: 0.862000; val_acc: 0.314000\n",
      "(Epoch 15 / 100) train acc: 0.886000; val_acc: 0.313000\n",
      "(Epoch 16 / 100) train acc: 0.932000; val_acc: 0.320000\n",
      "(Epoch 17 / 100) train acc: 0.930000; val_acc: 0.318000\n",
      "(Epoch 18 / 100) train acc: 0.936000; val_acc: 0.307000\n",
      "(Epoch 19 / 100) train acc: 0.928000; val_acc: 0.310000\n",
      "(Epoch 20 / 100) train acc: 0.924000; val_acc: 0.328000\n",
      "(Epoch 21 / 100) train acc: 0.962000; val_acc: 0.312000\n",
      "(Epoch 22 / 100) train acc: 0.972000; val_acc: 0.328000\n",
      "(Epoch 23 / 100) train acc: 0.976000; val_acc: 0.294000\n",
      "(Epoch 24 / 100) train acc: 0.986000; val_acc: 0.318000\n",
      "(Epoch 25 / 100) train acc: 0.978000; val_acc: 0.319000\n",
      "(Epoch 26 / 100) train acc: 0.986000; val_acc: 0.314000\n",
      "(Epoch 27 / 100) train acc: 0.992000; val_acc: 0.333000\n",
      "(Epoch 28 / 100) train acc: 0.992000; val_acc: 0.322000\n",
      "(Epoch 29 / 100) train acc: 0.976000; val_acc: 0.327000\n",
      "(Epoch 30 / 100) train acc: 0.956000; val_acc: 0.311000\n",
      "(Epoch 31 / 100) train acc: 0.988000; val_acc: 0.329000\n",
      "(Epoch 32 / 100) train acc: 1.000000; val_acc: 0.322000\n",
      "(Epoch 33 / 100) train acc: 0.998000; val_acc: 0.327000\n",
      "(Epoch 34 / 100) train acc: 0.992000; val_acc: 0.321000\n",
      "(Epoch 35 / 100) train acc: 0.994000; val_acc: 0.332000\n",
      "(Epoch 36 / 100) train acc: 1.000000; val_acc: 0.321000\n",
      "(Epoch 37 / 100) train acc: 0.992000; val_acc: 0.316000\n",
      "(Epoch 38 / 100) train acc: 1.000000; val_acc: 0.332000\n",
      "(Epoch 39 / 100) train acc: 0.998000; val_acc: 0.322000\n",
      "(Epoch 40 / 100) train acc: 0.988000; val_acc: 0.332000\n",
      "(Epoch 41 / 100) train acc: 0.990000; val_acc: 0.318000\n",
      "(Epoch 42 / 100) train acc: 0.988000; val_acc: 0.314000\n",
      "(Epoch 43 / 100) train acc: 0.998000; val_acc: 0.311000\n",
      "(Epoch 44 / 100) train acc: 0.986000; val_acc: 0.325000\n",
      "(Epoch 45 / 100) train acc: 0.996000; val_acc: 0.336000\n",
      "(Epoch 46 / 100) train acc: 1.000000; val_acc: 0.325000\n",
      "(Epoch 47 / 100) train acc: 0.998000; val_acc: 0.314000\n",
      "(Epoch 48 / 100) train acc: 0.996000; val_acc: 0.329000\n",
      "(Epoch 49 / 100) train acc: 0.998000; val_acc: 0.313000\n",
      "(Epoch 50 / 100) train acc: 0.998000; val_acc: 0.329000\n",
      "(Iteration 101 / 200) loss: 0.397066\n",
      "(Epoch 51 / 100) train acc: 1.000000; val_acc: 0.321000\n",
      "(Epoch 52 / 100) train acc: 0.994000; val_acc: 0.312000\n",
      "(Epoch 53 / 100) train acc: 1.000000; val_acc: 0.337000\n",
      "(Epoch 54 / 100) train acc: 0.974000; val_acc: 0.320000\n",
      "(Epoch 55 / 100) train acc: 0.996000; val_acc: 0.333000\n",
      "(Epoch 56 / 100) train acc: 1.000000; val_acc: 0.328000\n",
      "(Epoch 57 / 100) train acc: 1.000000; val_acc: 0.324000\n",
      "(Epoch 58 / 100) train acc: 1.000000; val_acc: 0.333000\n",
      "(Epoch 59 / 100) train acc: 1.000000; val_acc: 0.324000\n",
      "(Epoch 60 / 100) train acc: 0.952000; val_acc: 0.317000\n",
      "(Epoch 61 / 100) train acc: 0.976000; val_acc: 0.331000\n",
      "(Epoch 62 / 100) train acc: 0.990000; val_acc: 0.320000\n",
      "(Epoch 63 / 100) train acc: 0.994000; val_acc: 0.325000\n",
      "(Epoch 64 / 100) train acc: 0.998000; val_acc: 0.319000\n",
      "(Epoch 65 / 100) train acc: 1.000000; val_acc: 0.323000\n",
      "(Epoch 66 / 100) train acc: 0.996000; val_acc: 0.337000\n",
      "(Epoch 67 / 100) train acc: 1.000000; val_acc: 0.340000\n",
      "(Epoch 68 / 100) train acc: 1.000000; val_acc: 0.332000\n",
      "(Epoch 69 / 100) train acc: 1.000000; val_acc: 0.326000\n",
      "(Epoch 70 / 100) train acc: 1.000000; val_acc: 0.336000\n",
      "(Epoch 71 / 100) train acc: 1.000000; val_acc: 0.332000\n",
      "(Epoch 72 / 100) train acc: 1.000000; val_acc: 0.318000\n",
      "(Epoch 73 / 100) train acc: 0.996000; val_acc: 0.320000\n",
      "(Epoch 74 / 100) train acc: 1.000000; val_acc: 0.325000\n",
      "(Epoch 75 / 100) train acc: 0.998000; val_acc: 0.319000\n",
      "(Epoch 76 / 100) train acc: 1.000000; val_acc: 0.322000\n",
      "(Epoch 77 / 100) train acc: 1.000000; val_acc: 0.319000\n",
      "(Epoch 78 / 100) train acc: 0.994000; val_acc: 0.326000\n",
      "(Epoch 79 / 100) train acc: 0.998000; val_acc: 0.316000\n",
      "(Epoch 80 / 100) train acc: 1.000000; val_acc: 0.299000\n",
      "(Epoch 81 / 100) train acc: 0.998000; val_acc: 0.300000\n",
      "(Epoch 82 / 100) train acc: 0.998000; val_acc: 0.307000\n",
      "(Epoch 83 / 100) train acc: 0.998000; val_acc: 0.311000\n",
      "(Epoch 84 / 100) train acc: 0.998000; val_acc: 0.317000\n",
      "(Epoch 85 / 100) train acc: 1.000000; val_acc: 0.327000\n",
      "(Epoch 86 / 100) train acc: 1.000000; val_acc: 0.327000\n",
      "(Epoch 87 / 100) train acc: 1.000000; val_acc: 0.338000\n",
      "(Epoch 88 / 100) train acc: 1.000000; val_acc: 0.318000\n",
      "(Epoch 89 / 100) train acc: 1.000000; val_acc: 0.314000\n",
      "(Epoch 90 / 100) train acc: 0.992000; val_acc: 0.306000\n",
      "(Epoch 91 / 100) train acc: 1.000000; val_acc: 0.313000\n",
      "(Epoch 92 / 100) train acc: 0.998000; val_acc: 0.309000\n",
      "(Epoch 93 / 100) train acc: 1.000000; val_acc: 0.309000\n",
      "(Epoch 94 / 100) train acc: 0.996000; val_acc: 0.313000\n",
      "(Epoch 95 / 100) train acc: 1.000000; val_acc: 0.310000\n",
      "(Epoch 96 / 100) train acc: 1.000000; val_acc: 0.322000\n",
      "(Epoch 97 / 100) train acc: 1.000000; val_acc: 0.325000\n",
      "(Epoch 98 / 100) train acc: 1.000000; val_acc: 0.320000\n",
      "(Epoch 99 / 100) train acc: 1.000000; val_acc: 0.309000\n",
      "(Epoch 100 / 100) train acc: 1.000000; val_acc: 0.317000\n"
     ]
    }
   ],
   "source": [
    "# Train two identical nets, one with dropout and one without\n",
    "np.random.seed(231)\n",
    "num_train = 500\n",
    "small_data = {\n",
    "  'X_train': data['X_train'][:num_train],\n",
    "  'y_train': data['y_train'][:num_train],\n",
    "  'X_val': data['X_val'],\n",
    "  'y_val': data['y_val'],\n",
    "}\n",
    "\n",
    "solvers = {}\n",
    "dropout_choices = [0, 0.75]\n",
    "for dropout in dropout_choices:\n",
    "    model = FullyConnectedNet([500], dropout=dropout)\n",
    "    print(dropout)\n",
    "\n",
    "    solver = Solver(model, small_data,\n",
    "                  num_epochs=100, batch_size=200,\n",
    "                  update_rule='rmsprop',\n",
    "                  optim_config={\n",
    "                    'learning_rate': 5e-4,\n",
    "                  },\n",
    "                  verbose=True, print_every=100)\n",
    "    solver.train()\n",
    "    solvers[dropout] = solver"
   ]
  },
  {
   "cell_type": "code",
   "execution_count": 33,
   "metadata": {
    "collapsed": false,
    "deletable": true,
    "editable": true
   },
   "outputs": [
    {
     "data": {
      "image/png": "[encoded data removed]",
      "text/plain": [
       "<matplotlib.figure.Figure at 0x111fac6d0>"
      ]
     },
     "metadata": {},
     "output_type": "display_data"
    }
   ],
   "source": [
    "# Plot train and validation accuracies of the two models\n",
    "\n",
    "train_accs = []\n",
    "val_accs = []\n",
    "for dropout in dropout_choices:\n",
    "    solver = solvers[dropout]\n",
    "    train_accs.append(solver.train_acc_history[-1])\n",
    "    val_accs.append(solver.val_acc_history[-1])\n",
    "\n",
    "plt.subplot(3, 1, 1)\n",
    "for dropout in dropout_choices:\n",
    "    plt.plot(solvers[dropout].train_acc_history, 'o', label='%.2f dropout' % dropout)\n",
    "plt.title('Train accuracy')\n",
    "plt.xlabel('Epoch')\n",
    "plt.ylabel('Accuracy')\n",
    "plt.legend(ncol=2, loc='lower right')\n",
    "  \n",
    "plt.subplot(3, 1, 2)\n",
    "for dropout in dropout_choices:\n",
    "    plt.plot(solvers[dropout].val_acc_history, 'o', label='%.2f dropout' % dropout)\n",
    "plt.title('Val accuracy')\n",
    "plt.xlabel('Epoch')\n",
    "plt.ylabel('Accuracy')\n",
    "plt.legend(ncol=2, loc='lower right')\n",
    "\n",
    "plt.gcf().set_size_inches(15, 15)\n",
    "plt.show()"
   ]
  },
  {
   "cell_type": "markdown",
   "metadata": {
    "deletable": true,
    "editable": true
   },
   "source": [
    "# Question\n",
    "Explain what you see in this experiment. What does it suggest about dropout?"
   ]
  },
  {
   "cell_type": "markdown",
   "metadata": {
    "deletable": true,
    "editable": true
   },
   "source": [
    "# Answer\n",
    "When we use dropout it seems that the learning on the validation set is faster. However, as number of epochs increase dropout does not make much difference. "
   ]
  },
  {
   "cell_type": "code",
   "execution_count": null,
   "metadata": {
    "collapsed": true
   },
   "outputs": [],
   "source": []
  }
 ],
 "metadata": {
  "anaconda-cloud": {},
  "kernelspec": {
   "display_name": "Python [default]",
   "language": "python",
   "name": "python2"
  },
  "language_info": {
   "codemirror_mode": {
    "name": "ipython",
    "version": 2
   },
   "file_extension": ".py",
   "mimetype": "text/x-python",
   "name": "python",
   "nbconvert_exporter": "python",
   "pygments_lexer": "ipython2",
   "version": "2.7.12"
  }
 },
 "nbformat": 4,
 "nbformat_minor": 0
}
