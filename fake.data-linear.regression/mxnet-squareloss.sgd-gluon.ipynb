{
 "cells": [
  {
   "cell_type": "code",
   "execution_count": 1,
   "metadata": {
    "collapsed": true
   },
   "outputs": [],
   "source": [
    "import mxnet as mx\n",
    "from mxnet import nd, autograd as ag, gluon\n",
    "from get_data import get_data"
   ]
  },
  {
   "cell_type": "code",
   "execution_count": 2,
   "metadata": {
    "collapsed": true
   },
   "outputs": [],
   "source": [
    "# Data\n",
    "\n",
    "num_input = 2\n",
    "num_output = 1\n",
    "num_examples = 1000\n",
    "batch_size = 10\n",
    "\n",
    "train_data,train_label = get_data(W=[3,-6],b=9,num_data=num_examples)\n",
    "X = nd.array(train_data)\n",
    "Y = nd.array(train_label)\n",
    "\n",
    "batch_size = 10\n",
    "train_data = gluon.data.DataLoader(\n",
    "    gluon.data.ArrayDataset(X,Y),\n",
    "    batch_size=batch_size,\n",
    "    shuffle=True)"
   ]
  },
  {
   "cell_type": "code",
   "execution_count": 3,
   "metadata": {
    "collapsed": true
   },
   "outputs": [],
   "source": [
    "# Model\n",
    "\n",
    "net = gluon.nn.Dense(1, in_units=2) # input 2维，output 1维\n",
    "net.collect_params().initialize(mx.init.Normal(sigma=1.))\n",
    "\n",
    "squire_loss = gluon.loss.L2Loss()"
   ]
  },
  {
   "cell_type": "code",
   "execution_count": 4,
   "metadata": {},
   "outputs": [
    {
     "name": "stdout",
     "output_type": "stream",
     "text": [
      "0: 2.77466153049\n",
      "1: 0.374278589487\n",
      "2: 0.0510698633268\n",
      "3: 0.0073281574389\n",
      "4: 0.00141206835187\n",
      "\n",
      "[[ 2.99173284 -5.9478898 ]]\n",
      "<NDArray 1x2 @cpu(0)> \n",
      "[ 8.94240856]\n",
      "<NDArray 1 @cpu(0)>\n"
     ]
    }
   ],
   "source": [
    "# Train\n",
    "\n",
    "trainer = gluon.Trainer(net.collect_params(),'sgd',{'learning_rate':.01})\n",
    "\n",
    "epochs = 5\n",
    "model_ctx = mx.cpu()\n",
    "\n",
    "for e in range(epochs):\n",
    "    cumulative_loss = 0\n",
    "    for i,(data,label) in enumerate(train_data):\n",
    "        data = data.as_in_context(model_ctx)\n",
    "        label = label.as_in_context(model_ctx)\n",
    "        with ag.record():\n",
    "            output = net(data)\n",
    "            loss = squire_loss(output,label)\n",
    "        loss.backward()\n",
    "        trainer.step(batch_size)\n",
    "        cumulative_loss += nd.mean(loss).asscalar()\n",
    "    print(\"%s: %s\"%(e,cumulative_loss/num_examples))\n",
    "\n",
    "print(net.weight.data(), net.bias.data())"
   ]
  }
 ],
 "metadata": {
  "kernelspec": {
   "display_name": "Python 3",
   "language": "python",
   "name": "python3"
  },
  "language_info": {
   "codemirror_mode": {
    "name": "ipython",
    "version": 3
   },
   "file_extension": ".py",
   "mimetype": "text/x-python",
   "name": "python",
   "nbconvert_exporter": "python",
   "pygments_lexer": "ipython3",
   "version": "3.5.2"
  },
  "toc": {
   "nav_menu": {},
   "number_sections": true,
   "sideBar": true,
   "skip_h1_title": false,
   "toc_cell": false,
   "toc_position": {},
   "toc_section_display": "block",
   "toc_window_display": false
  }
 },
 "nbformat": 4,
 "nbformat_minor": 2
}
