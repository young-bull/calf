{
 "cells": [
  {
   "cell_type": "code",
   "execution_count": 1,
   "metadata": {
    "collapsed": true
   },
   "outputs": [],
   "source": [
    "import mxnet as mx\n",
    "from mxnet import nd, autograd as ag\n",
    "from get_data import get_data\n",
    "import random"
   ]
  },
  {
   "cell_type": "code",
   "execution_count": 2,
   "metadata": {
    "collapsed": true
   },
   "outputs": [],
   "source": [
    "# Data\n",
    "\n",
    "num_examples = 1000\n",
    "batch_size = 10\n",
    "\n",
    "train_data,train_label = get_data(W=[3,-6],b=9,num_data=num_examples)\n",
    "X = nd.array(train_data)\n",
    "Y = nd.array(train_label)\n",
    "\n",
    "def data_iter():\n",
    "    idx = list(range(num_examples))\n",
    "    random.shuffle(idx)\n",
    "    for i in range(0,num_examples,batch_size):\n",
    "        j = nd.array(idx[i:min(i+batch_size,num_examples)])\n",
    "        yield nd.take(X,j), nd.take(Y,j)"
   ]
  },
  {
   "cell_type": "code",
   "execution_count": 3,
   "metadata": {
    "collapsed": true
   },
   "outputs": [],
   "source": [
    "# Model\n",
    "\n",
    "W = nd.array(source_array=(1,1))\n",
    "b = nd.ones((1))\n",
    "params = [W,b]\n",
    "\n",
    "def net(X):\n",
    "    return nd.dot(X,params[0]) + params[1]\n",
    "\n",
    "def square_loss(yhat,y):\n",
    "    return (yhat - y) ** 2"
   ]
  },
  {
   "cell_type": "code",
   "execution_count": 4,
   "metadata": {},
   "outputs": [
    {
     "name": "stdout",
     "output_type": "stream",
     "text": [
      "0 29.158871254\n",
      "1 0.526729418248\n",
      "2 0.0198925155587\n",
      "3 0.0103976256736\n",
      "4 0.010196420813\n",
      "\n",
      "[ 3.00121284 -6.00206518]\n",
      "<NDArray 2 @cpu(0)> \n",
      "[ 9.00353146]\n",
      "<NDArray 1 @cpu(0)>\n"
     ]
    }
   ],
   "source": [
    "# Train\n",
    "\n",
    "def SGD(params, alpha):\n",
    "    for param in params:\n",
    "        param[:] = param - alpha * param.grad\n",
    "\n",
    "epoth = 5\n",
    "learning_rate = .001\n",
    "\n",
    "for param in params:\n",
    "    param.attach_grad()\n",
    "\n",
    "for e in range(epoth):\n",
    "    total_loss = 0\n",
    "    \n",
    "    for data,label in data_iter():\n",
    "        with ag.record():\n",
    "            y = net(data)\n",
    "            h = square_loss(y,label)\n",
    "        h.backward()\n",
    "        SGD(params, learning_rate)\n",
    "        total_loss += nd.sum(h).asscalar()\n",
    "    \n",
    "    print(e,total_loss/num_examples)\n",
    "\n",
    "print(W,b)"
   ]
  }
 ],
 "metadata": {
  "kernelspec": {
   "display_name": "Python 3",
   "language": "python",
   "name": "python3"
  },
  "language_info": {
   "codemirror_mode": {
    "name": "ipython",
    "version": 3
   },
   "file_extension": ".py",
   "mimetype": "text/x-python",
   "name": "python",
   "nbconvert_exporter": "python",
   "pygments_lexer": "ipython3",
   "version": "3.5.2"
  },
  "toc": {
   "nav_menu": {},
   "number_sections": true,
   "sideBar": true,
   "skip_h1_title": false,
   "toc_cell": false,
   "toc_position": {},
   "toc_section_display": "block",
   "toc_window_display": false
  }
 },
 "nbformat": 4,
 "nbformat_minor": 2
}
