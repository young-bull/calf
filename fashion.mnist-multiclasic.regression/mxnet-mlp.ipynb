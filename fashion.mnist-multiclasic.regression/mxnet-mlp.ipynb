{
 "cells": [
  {
   "cell_type": "markdown",
   "metadata": {},
   "source": [
    "# MLP实现方式\n",
    "\n",
    "* 1958 年，心理学家Rosenblatt 提出 Perceptron（感知机）模型\n",
    "* 1984 年，Hinton等人提出的Bolzmann机\n",
    "* 1986 年，Rumelhart、Hinton、Williams 提出反向传播(BP)算法，随之，MLP（Multi-Layer Perceptron，多层感知机，有隐层）变得可行，并流行\n",
    "* **MLP 可以看做最原始的神经网络**，并在此基础上逐渐发展出各种 NN 和 DeepNN 网络模型\n",
    "\n"
   ]
  },
  {
   "cell_type": "markdown",
   "metadata": {},
   "source": [
    "# Data"
   ]
  },
  {
   "cell_type": "code",
   "execution_count": 1,
   "metadata": {
    "collapsed": true
   },
   "outputs": [],
   "source": [
    "import os\n",
    "import numpy as np\n",
    "from mxnet import ndarray as nd, autograd as ag, gluon\n",
    "from dataloader import DataLoader"
   ]
  },
  {
   "cell_type": "code",
   "execution_count": 2,
   "metadata": {
    "collapsed": true
   },
   "outputs": [],
   "source": [
    "dl = DataLoader(os.environ[\"HOME\"] + '/.datasets/Han.Xiao/fashion-mnist/')\n",
    "train_img,train_labels = dl.get_data(kind='train')\n",
    "test_img,test_labels = dl.get_data(kind='t10k')\n",
    "\n",
    "train_img_nd = nd.array(train_img).astype(np.float32)/255\n",
    "train_lab_nd = nd.array(train_labels).astype(np.float32)\n",
    "test_img_nd = nd.array(test_img).astype(np.float32)/255\n",
    "test_lab_nd = nd.array(test_labels).astype(np.float32)\n",
    "\n",
    "def data_iter(batch_size=100, kind='train'):\n",
    "    if kind != 'train':\n",
    "        idx = list(range(len(test_labels)))\n",
    "        for i in range(0,len(test_labels), batch_size):\n",
    "            j = nd.array(idx[i:min(i+batch_size,len(test_labels))])\n",
    "            yield nd.take(test_img_nd,j), nd.take(test_lab_nd,j)\n",
    "    else:\n",
    "        idx = list(range(len(train_labels)))\n",
    "        for i in range(0,len(train_labels), batch_size):\n",
    "            j = nd.array(idx[i:min(i+batch_size,len(train_labels))])\n",
    "            yield nd.take(train_img_nd,j), nd.take(train_lab_nd,j)"
   ]
  },
  {
   "cell_type": "markdown",
   "metadata": {},
   "source": [
    "# Model"
   ]
  },
  {
   "cell_type": "code",
   "execution_count": 3,
   "metadata": {
    "collapsed": true
   },
   "outputs": [],
   "source": [
    "num_inputs = 28*28\n",
    "num_outputs = 10\n",
    "\n",
    "num_hidden = 256\n",
    "weight_scale = .01\n",
    "\n",
    "# MXNet 的公式是 y=XW+b，吴恩达的公式是 y=WX+b，所以两者W的shape定义是相反的。\n",
    "W1 = nd.random_normal(shape=(num_inputs,num_hidden), scale=weight_scale)\n",
    "b1 = nd.zeros(num_hidden)\n",
    "\n",
    "W2 = nd.random_normal(shape=(num_hidden,num_outputs),scale=weight_scale)\n",
    "b2 = nd.zeros(num_outputs)\n",
    "\n",
    "params = [W1,b1,W2,b2]\n",
    "for p in params:\n",
    "    p.attach_grad()"
   ]
  },
  {
   "cell_type": "code",
   "execution_count": 4,
   "metadata": {
    "collapsed": true
   },
   "outputs": [],
   "source": [
    "def relu(X):\n",
    "    return nd.maximum(X,0)"
   ]
  },
  {
   "cell_type": "code",
   "execution_count": 5,
   "metadata": {
    "collapsed": true
   },
   "outputs": [],
   "source": [
    "def net(X):\n",
    "    X = X.reshape((-1, num_inputs))\n",
    "    h1 = relu(nd.dot(X,W1) + b1)\n",
    "    output = nd.dot(h1,W2) + b2\n",
    "    return output"
   ]
  },
  {
   "cell_type": "code",
   "execution_count": 6,
   "metadata": {
    "collapsed": true
   },
   "outputs": [],
   "source": [
    "softmax_cross_entropy = gluon.loss.SoftmaxCrossEntropyLoss()"
   ]
  },
  {
   "cell_type": "markdown",
   "metadata": {},
   "source": [
    "# Train"
   ]
  },
  {
   "cell_type": "code",
   "execution_count": 7,
   "metadata": {
    "collapsed": true
   },
   "outputs": [],
   "source": [
    "def SGD(params, lr):\n",
    "    for p in params:\n",
    "        p[:] = p - lr*p.grad"
   ]
  },
  {
   "cell_type": "code",
   "execution_count": 8,
   "metadata": {
    "collapsed": true
   },
   "outputs": [],
   "source": [
    "def accuracy(yhat,y):\n",
    "    return nd.mean(yhat.argmax(axis=1)==y).asscalar()"
   ]
  },
  {
   "cell_type": "code",
   "execution_count": 9,
   "metadata": {
    "scrolled": true
   },
   "outputs": [
    {
     "name": "stdout",
     "output_type": "stream",
     "text": [
      "epoch:0; loss:0.669319; accu:0.750100\n",
      "epoch:1; loss:0.437184; accu:0.836450\n",
      "epoch:2; loss:0.387346; accu:0.856450\n",
      "epoch:3; loss:0.357315; accu:0.867900\n",
      "epoch:4; loss:0.336028; accu:0.876300\n",
      "epoch:5; loss:0.318625; accu:0.883250\n",
      "epoch:6; loss:0.305061; accu:0.887550\n",
      "epoch:7; loss:0.293197; accu:0.891217\n",
      "epoch:8; loss:0.282563; accu:0.895033\n",
      "epoch:9; loss:0.272034; accu:0.900050\n",
      "epoch:10; loss:0.263254; accu:0.903200\n",
      "epoch:11; loss:0.254814; accu:0.906333\n",
      "epoch:12; loss:0.246816; accu:0.909667\n",
      "epoch:13; loss:0.239701; accu:0.911767\n",
      "epoch:14; loss:0.233559; accu:0.914600\n",
      "epoch:15; loss:0.227037; accu:0.917233\n",
      "epoch:16; loss:0.220851; accu:0.918633\n",
      "epoch:17; loss:0.213097; accu:0.921767\n",
      "epoch:18; loss:0.209658; accu:0.923267\n",
      "epoch:19; loss:0.201626; accu:0.926933\n",
      "epoch:20; loss:0.196941; accu:0.928217\n",
      "epoch:21; loss:0.193499; accu:0.929433\n",
      "epoch:22; loss:0.188997; accu:0.931000\n",
      "epoch:23; loss:0.182449; accu:0.933917\n",
      "epoch:24; loss:0.178399; accu:0.934817\n",
      "epoch:25; loss:0.174884; accu:0.936717\n",
      "epoch:26; loss:0.171267; accu:0.937783\n",
      "epoch:27; loss:0.167800; accu:0.939817\n",
      "epoch:28; loss:0.163520; accu:0.940567\n",
      "epoch:29; loss:0.159489; accu:0.941900\n",
      "epoch:30; loss:0.157369; accu:0.942600\n",
      "epoch:31; loss:0.154558; accu:0.944017\n",
      "epoch:32; loss:0.150505; accu:0.945667\n",
      "epoch:33; loss:0.146983; accu:0.946133\n",
      "epoch:34; loss:0.145659; accu:0.947633\n",
      "epoch:35; loss:0.142215; accu:0.948200\n",
      "epoch:36; loss:0.142220; accu:0.948500\n",
      "epoch:37; loss:0.137232; accu:0.950217\n",
      "epoch:38; loss:0.133979; accu:0.951333\n",
      "epoch:39; loss:0.135152; accu:0.951567\n",
      "epoch:40; loss:0.130614; accu:0.952783\n",
      "epoch:41; loss:0.128502; accu:0.953833\n",
      "epoch:42; loss:0.122137; accu:0.956350\n",
      "epoch:43; loss:0.123095; accu:0.955100\n",
      "epoch:44; loss:0.787936; accu:0.882650\n",
      "epoch:45; loss:0.319618; accu:0.885250\n",
      "epoch:46; loss:0.267988; accu:0.901500\n",
      "epoch:47; loss:0.241933; accu:0.911067\n",
      "epoch:48; loss:0.223629; accu:0.917133\n",
      "epoch:49; loss:0.211559; accu:0.921567\n",
      "epoch:50; loss:0.201459; accu:0.925850\n",
      "epoch:51; loss:0.194661; accu:0.928133\n",
      "epoch:52; loss:0.189537; accu:0.930500\n",
      "epoch:53; loss:0.182030; accu:0.932600\n",
      "epoch:54; loss:0.177162; accu:0.934183\n",
      "epoch:55; loss:0.173071; accu:0.936100\n",
      "epoch:56; loss:0.167863; accu:0.938333\n",
      "epoch:57; loss:0.167132; accu:0.938600\n",
      "epoch:58; loss:0.159968; accu:0.941383\n",
      "epoch:59; loss:0.157266; accu:0.942617\n",
      "epoch:60; loss:0.157019; accu:0.942283\n",
      "epoch:61; loss:0.150867; accu:0.944600\n",
      "epoch:62; loss:0.147106; accu:0.945500\n",
      "epoch:63; loss:0.143519; accu:0.947733\n",
      "epoch:64; loss:0.142515; accu:0.948133\n",
      "epoch:65; loss:0.140025; accu:0.949417\n",
      "epoch:66; loss:0.136108; accu:0.950633\n",
      "epoch:67; loss:0.140224; accu:0.948683\n",
      "epoch:68; loss:0.138117; accu:0.949350\n",
      "epoch:69; loss:0.130318; accu:0.952567\n",
      "epoch:70; loss:0.128987; accu:0.953217\n",
      "epoch:71; loss:0.125708; accu:0.954417\n",
      "epoch:72; loss:0.122255; accu:0.956167\n",
      "epoch:73; loss:0.120560; accu:0.956233\n",
      "epoch:74; loss:0.125045; accu:0.954967\n",
      "epoch:75; loss:0.121891; accu:0.956167\n",
      "epoch:76; loss:0.119469; accu:0.955717\n",
      "epoch:77; loss:0.116476; accu:0.957750\n",
      "epoch:78; loss:0.120064; accu:0.956067\n",
      "epoch:79; loss:0.112940; accu:0.959300\n",
      "epoch:80; loss:0.107799; accu:0.961467\n",
      "epoch:81; loss:0.109538; accu:0.960300\n",
      "epoch:82; loss:0.107638; accu:0.960867\n",
      "epoch:83; loss:0.116607; accu:0.958633\n",
      "epoch:84; loss:0.111353; accu:0.959200\n",
      "epoch:85; loss:0.102462; accu:0.962167\n",
      "epoch:86; loss:0.101742; accu:0.963183\n",
      "epoch:87; loss:0.101025; accu:0.962533\n",
      "epoch:88; loss:0.099411; accu:0.963867\n",
      "epoch:89; loss:0.103656; accu:0.962200\n",
      "epoch:90; loss:0.097573; accu:0.964483\n",
      "epoch:91; loss:0.092902; accu:0.966050\n",
      "epoch:92; loss:0.091651; accu:0.967067\n",
      "epoch:93; loss:0.094568; accu:0.966183\n",
      "epoch:94; loss:0.092839; accu:0.966250\n",
      "epoch:95; loss:0.094848; accu:0.965100\n",
      "epoch:96; loss:0.091565; accu:0.966800\n",
      "epoch:97; loss:0.086214; accu:0.969083\n",
      "epoch:98; loss:0.087258; accu:0.967817\n",
      "epoch:99; loss:0.088083; accu:0.968117\n",
      "0:01:38.127715\n"
     ]
    }
   ],
   "source": [
    "learning_rate = .5\n",
    "batch_size = 100\n",
    "epochs = 100\n",
    "\n",
    "import datetime\n",
    "t1 = datetime.datetime.now()\n",
    "\n",
    "for epoch in range(epochs):\n",
    "    train_loss = 0.\n",
    "    train_accu = 0.\n",
    "    \n",
    "    for data, label in data_iter(batch_size=batch_size):\n",
    "        with ag.record():\n",
    "            yhat = net(data)\n",
    "            loss = softmax_cross_entropy(yhat,label)\n",
    "        loss.backward()\n",
    "        \n",
    "        SGD(params, learning_rate/batch_size)\n",
    "                \n",
    "        train_loss += nd.mean(loss).asscalar()\n",
    "        train_accu += accuracy(yhat,label)\n",
    "\n",
    "    print(\"epoch:%d; loss:%f; accu:%f\" % (epoch, \n",
    "                    train_loss/len(train_labels)*batch_size,\n",
    "                    train_accu/len(train_labels)*batch_size))\n",
    "    \n",
    "print(datetime.datetime.now()-t1)"
   ]
  },
  {
   "cell_type": "markdown",
   "metadata": {},
   "source": [
    "# Test"
   ]
  },
  {
   "cell_type": "code",
   "execution_count": 10,
   "metadata": {},
   "outputs": [
    {
     "data": {
      "text/plain": [
       "array([2., 9., 6., ..., 8., 8., 7.], dtype=float32)"
      ]
     },
     "execution_count": 10,
     "metadata": {},
     "output_type": "execute_result"
    }
   ],
   "source": [
    "yhat = net(train_img_nd).argmax(axis=1).asnumpy()\n",
    "yhat"
   ]
  },
  {
   "cell_type": "code",
   "execution_count": 11,
   "metadata": {
    "scrolled": false
   },
   "outputs": [
    {
     "data": {
      "image/png": "[encoded data removed]",
      "text/plain": [
       "<matplotlib.figure.Figure at 0x7ff970fbeba8>"
      ]
     },
     "metadata": {},
     "output_type": "display_data"
    },
    {
     "data": {
      "image/png": "[encoded data removed]",
      "text/plain": [
       "<matplotlib.figure.Figure at 0x7ff970fbe7f0>"
      ]
     },
     "metadata": {},
     "output_type": "display_data"
    },
    {
     "data": {
      "image/png": "[encoded data removed]",
      "text/plain": [
       "<matplotlib.figure.Figure at 0x7ff9d2f7a208>"
      ]
     },
     "metadata": {},
     "output_type": "display_data"
    }
   ],
   "source": [
    "from matplotlib import pyplot as plt\n",
    "from statiser import Statistics\n",
    "train_statistics = Statistics(net(train_img_nd).argmax(axis=1).asnumpy(), \n",
    "                              train_lab_nd.asnumpy())\n",
    "test_statistics = Statistics(net(test_img_nd).argmax(axis=1).asnumpy(), \n",
    "                             test_lab_nd.asnumpy())\n",
    "train_statistics.show()\n",
    "test_statistics.show()\n",
    "plt.plot(range(10),train_statistics.Recall(),'r')\n",
    "plt.plot(range(10),train_statistics.Precision(),'g')\n",
    "plt.plot(range(10),test_statistics.Recall(),'b')\n",
    "plt.plot(range(10),test_statistics.Precision(),'k')\n",
    "plt.show()"
   ]
  },
  {
   "cell_type": "code",
   "execution_count": null,
   "metadata": {
    "collapsed": true
   },
   "outputs": [],
   "source": []
  }
 ],
 "metadata": {
  "kernelspec": {
   "display_name": "Python 3",
   "language": "python",
   "name": "python3"
  },
  "language_info": {
   "codemirror_mode": {
    "name": "ipython",
    "version": 3
   },
   "file_extension": ".py",
   "mimetype": "text/x-python",
   "name": "python",
   "nbconvert_exporter": "python",
   "pygments_lexer": "ipython3",
   "version": "3.5.2"
  },
  "toc": {
   "nav_menu": {},
   "number_sections": false,
   "sideBar": true,
   "skip_h1_title": false,
   "toc_cell": false,
   "toc_position": {},
   "toc_section_display": "block",
   "toc_window_display": false
  }
 },
 "nbformat": 4,
 "nbformat_minor": 2
}
