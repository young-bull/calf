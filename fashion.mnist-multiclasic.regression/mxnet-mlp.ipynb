{
 "cells": [
  {
   "cell_type": "markdown",
   "metadata": {},
   "source": [
    "# MLP实现方式\n",
    "\n",
    "* 1958 年，心理学家Rosenblatt 提出 Perceptron（感知机）模型\n",
    "* 1984 年，Hinton等人提出的Bolzmann机\n",
    "* 1986 年，Rumelhart、Hinton、Williams 提出反向传播(BP)算法，随之，MLP（Multi-Layer Perceptron，多层感知机，有隐层）变得可行，并流行\n",
    "* **MLP 可以看做最原始的神经网络**，并在此基础上逐渐发展出各种 NN 和 DeepNN 网络模型\n",
    "\n"
   ]
  },
  {
   "cell_type": "markdown",
   "metadata": {},
   "source": [
    "# Data"
   ]
  },
  {
   "cell_type": "code",
   "execution_count": 1,
   "metadata": {
    "collapsed": true
   },
   "outputs": [],
   "source": [
    "import os\n",
    "import numpy as np\n",
    "from mxnet import ndarray as nd, autograd as ag, gluon\n",
    "from dataloader import DataLoader"
   ]
  },
  {
   "cell_type": "code",
   "execution_count": 2,
   "metadata": {},
   "outputs": [],
   "source": [
    "dl = DataLoader(os.environ[\"HOME\"] + '/.datasets/Han.Xiao/fashion-mnist/')\n",
    "train_img,train_labels = dl.get_data(kind='train')\n",
    "test_img,test_labels = dl.get_data(kind='t10k')\n",
    "\n",
    "train_img_nd = nd.array(train_img).astype(np.float32)/255\n",
    "train_lab_nd = nd.array(train_labels).astype(np.float32)\n",
    "test_img_nd = nd.array(test_img).astype(np.float32)/255\n",
    "test_lab_nd = nd.array(test_labels).astype(np.float32)\n",
    "\n",
    "def data_iter(batch_size=100, kind='train'):\n",
    "    if kind != 'train':\n",
    "        idx = list(range(len(test_labels)))\n",
    "        for i in range(0,len(test_labels), batch_size):\n",
    "            j = nd.array(idx[i:min(i+batch_size,len(test_labels))])\n",
    "            yield nd.take(test_img_nd,j), nd.take(test_lab_nd,j)\n",
    "    else:\n",
    "        idx = list(range(len(train_labels)))\n",
    "        for i in range(0,len(train_labels), batch_size):\n",
    "            j = nd.array(idx[i:min(i+batch_size,len(train_labels))])\n",
    "            yield nd.take(train_img_nd,j), nd.take(train_lab_nd,j)"
   ]
  },
  {
   "cell_type": "markdown",
   "metadata": {},
   "source": [
    "# Model"
   ]
  },
  {
   "cell_type": "code",
   "execution_count": 3,
   "metadata": {
    "collapsed": true
   },
   "outputs": [],
   "source": [
    "num_inputs = 28*28\n",
    "num_outputs = 10\n",
    "\n",
    "num_hidden = 256\n",
    "weight_scale = .01\n",
    "\n",
    "# MXNet 的公式是 y=XW+b，吴恩达的公式是 y=WX+b，所以两者W的shape定义是相反的。\n",
    "W1 = nd.random_normal(shape=(num_inputs,num_hidden), scale=weight_scale)\n",
    "b1 = nd.zeros(num_hidden)\n",
    "\n",
    "W2 = nd.random_normal(shape=(num_hidden,num_outputs),scale=weight_scale)\n",
    "b2 = nd.zeros(num_outputs)\n",
    "\n",
    "params = [W1,b1,W2,b2]\n",
    "for p in params:\n",
    "    p.attach_grad()"
   ]
  },
  {
   "cell_type": "code",
   "execution_count": 4,
   "metadata": {
    "collapsed": true
   },
   "outputs": [],
   "source": [
    "def relu(X):\n",
    "    return nd.maximum(X,0)"
   ]
  },
  {
   "cell_type": "code",
   "execution_count": 5,
   "metadata": {
    "collapsed": true
   },
   "outputs": [],
   "source": [
    "def net(X):\n",
    "    X = X.reshape((-1, num_inputs))\n",
    "    h1 = relu(nd.dot(X,W1) + b1)\n",
    "    output = nd.dot(h1,W2) + b2\n",
    "    return output"
   ]
  },
  {
   "cell_type": "code",
   "execution_count": 6,
   "metadata": {
    "collapsed": true
   },
   "outputs": [],
   "source": [
    "softmax_cross_entropy = gluon.loss.SoftmaxCrossEntropyLoss()"
   ]
  },
  {
   "cell_type": "markdown",
   "metadata": {},
   "source": [
    "# Train"
   ]
  },
  {
   "cell_type": "code",
   "execution_count": 7,
   "metadata": {
    "collapsed": true
   },
   "outputs": [],
   "source": [
    "def SGD(params, lr):\n",
    "    for p in params:\n",
    "        p[:] = p - lr*p.grad"
   ]
  },
  {
   "cell_type": "code",
   "execution_count": 8,
   "metadata": {
    "collapsed": true
   },
   "outputs": [],
   "source": [
    "def accuracy(yhat,y):\n",
    "    return nd.mean(yhat.argmax(axis=1)==y).asscalar()"
   ]
  },
  {
   "cell_type": "code",
   "execution_count": 448,
   "metadata": {
    "scrolled": true
   },
   "outputs": [
    {
     "name": "stdout",
     "output_type": "stream",
     "text": [
      "loss:0.557523; accu:0.865517\n",
      "loss:0.269407; accu:0.901767\n",
      "loss:0.235381; accu:0.913750\n",
      "loss:0.213467; accu:0.921200\n",
      "loss:0.192387; accu:0.928800\n",
      "loss:0.179253; accu:0.933400\n",
      "loss:0.165940; accu:0.937867\n",
      "loss:0.154595; accu:0.942883\n",
      "loss:0.147280; accu:0.945500\n",
      "loss:0.135391; accu:0.950050\n",
      "loss:0.133376; accu:0.950517\n",
      "loss:0.126359; accu:0.953283\n",
      "loss:0.127837; accu:0.952583\n",
      "loss:0.114598; accu:0.958800\n",
      "loss:0.111142; accu:0.959700\n",
      "loss:0.109361; accu:0.960300\n",
      "loss:0.103520; accu:0.962217\n",
      "loss:0.101846; accu:0.963083\n",
      "loss:0.096366; accu:0.965633\n",
      "loss:0.096399; accu:0.965850\n",
      "loss:0.094798; accu:0.966400\n",
      "loss:0.089052; accu:0.968700\n",
      "loss:0.086159; accu:0.969983\n",
      "loss:0.086978; accu:0.968783\n",
      "loss:0.083878; accu:0.970667\n",
      "loss:0.082075; accu:0.971200\n",
      "loss:0.080748; accu:0.972250\n",
      "loss:0.076769; accu:0.973083\n",
      "loss:0.076423; accu:0.973583\n",
      "loss:0.078983; accu:0.972233\n",
      "loss:0.077286; accu:0.973233\n",
      "loss:0.070920; accu:0.974633\n",
      "loss:0.071808; accu:0.975150\n",
      "loss:0.069359; accu:0.975783\n",
      "loss:0.063034; accu:0.978350\n",
      "loss:0.066960; accu:0.977667\n",
      "loss:0.060581; accu:0.978650\n",
      "loss:0.059303; accu:0.979833\n",
      "loss:0.063700; accu:0.977933\n",
      "loss:0.071514; accu:0.976317\n",
      "loss:0.057704; accu:0.980250\n",
      "loss:0.059511; accu:0.979550\n",
      "loss:0.055137; accu:0.981400\n",
      "loss:0.052319; accu:0.982250\n",
      "loss:0.052892; accu:0.982200\n",
      "loss:0.057833; accu:0.980667\n",
      "loss:0.049932; accu:0.983367\n",
      "loss:0.048806; accu:0.983567\n",
      "loss:0.055890; accu:0.981317\n",
      "loss:0.047308; accu:0.984283\n",
      "loss:0.049223; accu:0.983700\n",
      "loss:0.046459; accu:0.984017\n",
      "loss:0.042342; accu:0.986217\n",
      "loss:0.052240; accu:0.982367\n",
      "loss:0.043087; accu:0.986250\n",
      "loss:0.036492; accu:0.989333\n",
      "loss:0.043401; accu:0.986367\n",
      "loss:0.039912; accu:0.987083\n",
      "loss:0.043531; accu:0.986117\n",
      "loss:0.047641; accu:0.983650\n",
      "loss:0.035996; accu:0.988500\n",
      "loss:0.038402; accu:0.988050\n",
      "loss:0.037898; accu:0.988333\n",
      "loss:0.034221; accu:0.989400\n",
      "loss:0.044673; accu:0.985250\n",
      "loss:0.040659; accu:0.986617\n",
      "loss:0.048543; accu:0.984800\n",
      "loss:0.043873; accu:0.985117\n",
      "loss:0.033155; accu:0.988733\n",
      "loss:0.028587; accu:0.991367\n",
      "loss:0.030790; accu:0.989933\n",
      "loss:0.030293; accu:0.990317\n",
      "loss:0.034070; accu:0.988950\n",
      "loss:0.031613; accu:0.989900\n",
      "loss:0.034914; accu:0.988417\n",
      "loss:0.031355; accu:0.990417\n",
      "loss:0.031048; accu:0.990483\n",
      "loss:0.024643; accu:0.992733\n",
      "loss:0.040992; accu:0.987583\n",
      "loss:0.041152; accu:0.986533\n",
      "loss:0.026099; accu:0.991550\n",
      "loss:0.027916; accu:0.991467\n",
      "loss:0.026073; accu:0.992400\n",
      "loss:0.025046; accu:0.992650\n",
      "loss:0.027164; accu:0.991600\n",
      "loss:0.028714; accu:0.991550\n",
      "loss:0.022232; accu:0.993650\n",
      "loss:0.021715; accu:0.994083\n",
      "loss:0.038512; accu:0.987800\n",
      "loss:0.039125; accu:0.987917\n",
      "loss:0.049281; accu:0.984233\n",
      "loss:0.023834; accu:0.993033\n",
      "loss:0.024455; accu:0.992500\n",
      "loss:0.025851; accu:0.992167\n",
      "loss:0.035194; accu:0.989117\n",
      "loss:0.028185; accu:0.991250\n",
      "loss:0.021177; accu:0.993700\n",
      "loss:0.026083; accu:0.992267\n",
      "loss:0.018765; accu:0.994717\n",
      "loss:0.021805; accu:0.993333\n",
      "loss:0.020864; accu:0.993833\n",
      "loss:0.019680; accu:0.993967\n",
      "loss:0.017454; accu:0.995417\n",
      "loss:0.021910; accu:0.993633\n",
      "loss:0.018623; accu:0.995050\n",
      "loss:0.029384; accu:0.991667\n",
      "loss:0.022116; accu:0.993283\n",
      "loss:0.055106; accu:0.983383\n",
      "loss:0.054193; accu:0.981967\n",
      "loss:0.020195; accu:0.994017\n",
      "loss:0.017772; accu:0.995083\n",
      "loss:0.017803; accu:0.994900\n",
      "loss:0.014379; accu:0.996300\n",
      "loss:0.019955; accu:0.994367\n",
      "loss:0.016330; accu:0.995450\n",
      "loss:0.013431; accu:0.996733\n",
      "loss:0.025331; accu:0.992533\n",
      "loss:0.030215; accu:0.990683\n",
      "loss:0.023502; accu:0.992917\n",
      "loss:0.024812; accu:0.992267\n",
      "loss:0.040790; accu:0.987867\n",
      "loss:0.015622; accu:0.995833\n",
      "loss:0.015883; accu:0.995683\n",
      "loss:0.011524; accu:0.997533\n",
      "loss:0.014191; accu:0.996467\n",
      "loss:0.015356; accu:0.995650\n",
      "loss:0.016714; accu:0.995317\n",
      "loss:0.053667; accu:0.983917\n",
      "loss:0.015370; accu:0.995800\n",
      "loss:0.032354; accu:0.990867\n",
      "loss:0.015635; accu:0.995417\n",
      "loss:0.012002; accu:0.997200\n",
      "loss:0.012443; accu:0.996683\n",
      "loss:0.011546; accu:0.997050\n",
      "loss:0.017294; accu:0.995783\n",
      "loss:0.010821; accu:0.997667\n",
      "loss:0.010474; accu:0.998033\n",
      "loss:0.012447; accu:0.996817\n",
      "loss:0.008752; accu:0.998600\n",
      "loss:0.010782; accu:0.997533\n",
      "loss:0.031443; accu:0.990433\n",
      "loss:0.026623; accu:0.992883\n",
      "loss:0.011375; accu:0.997133\n",
      "loss:0.016459; accu:0.995950\n",
      "loss:0.010388; accu:0.997717\n",
      "loss:0.009238; accu:0.998100\n",
      "loss:0.009485; accu:0.998100\n",
      "loss:0.007611; accu:0.998833\n",
      "loss:0.033099; accu:0.992117\n",
      "loss:0.061711; accu:0.980633\n",
      "0:02:31.651953\n"
     ]
    }
   ],
   "source": [
    "learning_rate = .2\n",
    "batch_size = 100\n",
    "epoches = 100\n",
    "\n",
    "import datetime\n",
    "t1 = datetime.datetime.now()\n",
    "\n",
    "for epoch in range(epoches):\n",
    "    train_loss = 0.\n",
    "    train_accu = 0.\n",
    "    \n",
    "    for data, label in data_iter(batch_size=batch_size):\n",
    "        with ag.record():\n",
    "            yhat = net(data)\n",
    "            loss = softmax_cross_entropy(yhat,label)\n",
    "        loss.backward()\n",
    "        \n",
    "        SGD(params, learning_rate/batch_size)\n",
    "                \n",
    "        train_loss += nd.mean(loss).asscalar()\n",
    "        train_accu += accuracy(yhat,label)\n",
    "\n",
    "    print(\"epoch:%d; loss:%f; accu:%f\" % (epoch, \n",
    "                    train_loss/len(train_labels)*batch_size,\n",
    "                    train_accu/len(train_labels)*batch_size))\n",
    "    \n",
    "print(datetime.datetime.now()-t1)"
   ]
  },
  {
   "cell_type": "markdown",
   "metadata": {},
   "source": [
    "# Test"
   ]
  },
  {
   "cell_type": "code",
   "execution_count": 446,
   "metadata": {},
   "outputs": [
    {
     "data": {
      "text/plain": [
       "(60000,)"
      ]
     },
     "execution_count": 446,
     "metadata": {},
     "output_type": "execute_result"
    }
   ],
   "source": [
    "yhat = net(train_img_nd).argmax(axis=1).asnumpy()\n",
    "y = train_lab_nd.asnumpy()\n",
    "y.shape"
   ]
  },
  {
   "cell_type": "code",
   "execution_count": 440,
   "metadata": {
    "scrolled": false
   },
   "outputs": [
    {
     "data": {
      "image/png": "[encoded data removed]",
      "text/plain": [
       "<matplotlib.figure.Figure at 0x7feb18c74518>"
      ]
     },
     "metadata": {},
     "output_type": "display_data"
    },
    {
     "data": {
      "image/png": "[encoded data removed]",
      "text/plain": [
       "<matplotlib.figure.Figure at 0x7feb10b7b2e8>"
      ]
     },
     "metadata": {},
     "output_type": "display_data"
    },
    {
     "data": {
      "image/png": "[encoded data removed]",
      "text/plain": [
       "<matplotlib.figure.Figure at 0x7feb10c6f240>"
      ]
     },
     "metadata": {},
     "output_type": "display_data"
    }
   ],
   "source": [
    "from statiser import Statistics\n",
    "train_statistics = Statistics(net(train_img_nd).argmax(axis=1).asnumpy(), \n",
    "                              train_lab_nd.asnumpy())\n",
    "test_statistics = Statistics(net(test_img_nd).argmax(axis=1).asnumpy(), \n",
    "                             test_lab_nd.asnumpy())\n",
    "train_statistics.show()\n",
    "test_statistics.show()\n",
    "plt.plot(range(10),train_statistics.Recall(),'r')\n",
    "plt.plot(range(10),train_statistics.Precision(),'g')\n",
    "plt.plot(range(10),test_statistics.Recall(),'b')\n",
    "plt.plot(range(10),test_statistics.Precision(),'k')\n",
    "plt.show()"
   ]
  }
 ],
 "metadata": {
  "kernelspec": {
   "display_name": "Python 3",
   "language": "python",
   "name": "python3"
  },
  "language_info": {
   "codemirror_mode": {
    "name": "ipython",
    "version": 3
   },
   "file_extension": ".py",
   "mimetype": "text/x-python",
   "name": "python",
   "nbconvert_exporter": "python",
   "pygments_lexer": "ipython3",
   "version": "3.5.2"
  },
  "toc": {
   "nav_menu": {},
   "number_sections": false,
   "sideBar": true,
   "skip_h1_title": false,
   "toc_cell": false,
   "toc_position": {},
   "toc_section_display": "block",
   "toc_window_display": false
  }
 },
 "nbformat": 4,
 "nbformat_minor": 2
}
