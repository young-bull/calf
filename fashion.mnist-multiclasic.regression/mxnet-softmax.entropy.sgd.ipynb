{
 "cells": [
  {
   "cell_type": "code",
   "execution_count": 1,
   "metadata": {
    "collapsed": true
   },
   "outputs": [],
   "source": [
    "import mxnet as mx\n",
    "from mxnet import nd, autograd as ag\n",
    "from dataloader import DataLoader\n",
    "import numpy as np\n",
    "import datetime\n",
    "import matplotlib.pylab as plt"
   ]
  },
  {
   "cell_type": "markdown",
   "metadata": {},
   "source": [
    "# Data"
   ]
  },
  {
   "cell_type": "code",
   "execution_count": 2,
   "metadata": {
    "collapsed": true
   },
   "outputs": [],
   "source": [
    "dl = DataLoader('~/.datasets/Han.Xiao/fashion-mnist/')\n",
    "train_img,train_labels = dl.get_data(kind='train')\n",
    "test_img,test_labels = dl.get_data(kind='t10k')"
   ]
  },
  {
   "cell_type": "code",
   "execution_count": 3,
   "metadata": {},
   "outputs": [
    {
     "data": {
      "image/png": "[encoded data removed]",
      "text/plain": [
       "<matplotlib.figure.Figure at 0x7f78d045d908>"
      ]
     },
     "metadata": {},
     "output_type": "display_data"
    },
    {
     "data": {
      "text/plain": [
       "[['pullover'],\n",
       " ['ankle boot'],\n",
       " ['shirt'],\n",
       " ['t-shirt'],\n",
       " ['dress,'],\n",
       " ['coat'],\n",
       " ['coat'],\n",
       " ['sandal'],\n",
       " ['coat'],\n",
       " ['bag']]"
      ]
     },
     "execution_count": 3,
     "metadata": {},
     "output_type": "execute_result"
    }
   ],
   "source": [
    "DataLoader.show_images(train_img[0:10])\n",
    "DataLoader.get_labels(train_labels[0:10])"
   ]
  },
  {
   "cell_type": "code",
   "execution_count": 4,
   "metadata": {},
   "outputs": [
    {
     "data": {
      "text/plain": [
       "(60000, 784)"
      ]
     },
     "execution_count": 4,
     "metadata": {},
     "output_type": "execute_result"
    }
   ],
   "source": [
    "train_img.shape"
   ]
  },
  {
   "cell_type": "code",
   "execution_count": 5,
   "metadata": {},
   "outputs": [
    {
     "data": {
      "text/plain": [
       "(60000,)"
      ]
     },
     "execution_count": 5,
     "metadata": {},
     "output_type": "execute_result"
    }
   ],
   "source": [
    "train_labels.shape"
   ]
  },
  {
   "cell_type": "code",
   "execution_count": 6,
   "metadata": {
    "collapsed": true
   },
   "outputs": [],
   "source": [
    "# 修改为float以便求导，除以255做归一化\n",
    "train_img_nd = nd.array(train_img).astype(np.float32)/255\n",
    "train_lab_nd = nd.array(train_labels).astype(np.float32)\n",
    "test_img_nd = nd.array(test_img).astype(np.float32)/255\n",
    "test_lab_nd = nd.array(test_labels).astype(np.float32)"
   ]
  },
  {
   "cell_type": "code",
   "execution_count": 7,
   "metadata": {
    "collapsed": true
   },
   "outputs": [],
   "source": [
    "def data_iter(batch_size=100, kind='train'):\n",
    "    if kind != 'train':\n",
    "        idx = list(range(len(test_labels)))\n",
    "        for i in range(0,len(test_labels), batch_size):\n",
    "            j = nd.array(idx[i:min(i+batch_size,len(test_labels))])\n",
    "            yield nd.take(test_img_nd,j), nd.take(test_lab_nd,j)\n",
    "    else:\n",
    "        idx = list(range(len(train_labels)))\n",
    "        for i in range(0,len(train_labels), batch_size):\n",
    "            j = nd.array(idx[i:min(i+batch_size,len(train_labels))])\n",
    "            yield nd.take(train_img_nd,j), nd.take(train_lab_nd,j)"
   ]
  },
  {
   "cell_type": "markdown",
   "metadata": {
    "collapsed": true
   },
   "source": [
    "# Model"
   ]
  },
  {
   "cell_type": "markdown",
   "metadata": {},
   "source": [
    "$$\\boldsymbol{\\hat y} = net({\\boldsymbol x}) = softmax({\\boldsymbol{x}}\\ {W} + {\\boldsymbol{b}})$$"
   ]
  },
  {
   "cell_type": "code",
   "execution_count": 8,
   "metadata": {
    "collapsed": true
   },
   "outputs": [],
   "source": [
    "md_ctx = mx.gpu()\n",
    "num_input = 784\n",
    "num_output = 10\n",
    "num_examples = len(train_labels)\n",
    "batch_size = 100\n",
    "\n",
    "W = nd.random_normal(shape=(num_input, num_output),ctx=md_ctx)\n",
    "b = nd.random_normal(shape=(num_output),ctx=md_ctx)\n",
    "\n",
    "params = [W,b]\n",
    "for p in params:\n",
    "    p.attach_grad()"
   ]
  },
  {
   "cell_type": "code",
   "execution_count": 9,
   "metadata": {
    "collapsed": true
   },
   "outputs": [],
   "source": [
    "def softmax(X):\n",
    "    e = nd.exp(X)\n",
    "    t = nd.sum(e, axis=1, keepdims=True)\n",
    "    return e/t"
   ]
  },
  {
   "cell_type": "code",
   "execution_count": 10,
   "metadata": {
    "collapsed": true
   },
   "outputs": [],
   "source": [
    "def net(X):\n",
    "    X = X.as_in_context(md_ctx)\n",
    "    return softmax(nd.dot(X,W) + b)"
   ]
  },
  {
   "cell_type": "code",
   "execution_count": 11,
   "metadata": {
    "collapsed": true
   },
   "outputs": [],
   "source": [
    "def cross_entropy(yhat,y):\n",
    "    yhat = yhat.as_in_context(md_ctx)\n",
    "    y = y.as_in_context(md_ctx)\n",
    "    return - nd.log(nd.pick(yhat,y))"
   ]
  },
  {
   "cell_type": "markdown",
   "metadata": {},
   "source": [
    "# Train"
   ]
  },
  {
   "cell_type": "code",
   "execution_count": 12,
   "metadata": {
    "collapsed": true
   },
   "outputs": [],
   "source": [
    "def SGD(params, lr):\n",
    "    for p in params:\n",
    "        p[:] = p - lr*p.grad"
   ]
  },
  {
   "cell_type": "code",
   "execution_count": 13,
   "metadata": {
    "collapsed": true
   },
   "outputs": [],
   "source": [
    "# 新建一个“精度”计算的函数\n",
    "def accuracy(yhat,y):\n",
    "    yhat = yhat.as_in_context(md_ctx)\n",
    "    y = y.as_in_context(md_ctx)\n",
    "    return nd.mean(yhat.argmax(axis=1)==y).asscalar()"
   ]
  },
  {
   "cell_type": "code",
   "execution_count": 14,
   "metadata": {
    "scrolled": false
   },
   "outputs": [
    {
     "name": "stdout",
     "output_type": "stream",
     "text": [
      "epoch:0; loss:2.517997; accu:0.568433\n",
      "epoch:1; loss:1.398741; accu:0.699533\n",
      "epoch:2; loss:1.170758; accu:0.735667\n",
      "epoch:3; loss:1.048329; accu:0.754650\n",
      "epoch:4; loss:0.968290; accu:0.767200\n",
      "epoch:5; loss:nan; accu:0.532000\n",
      "epoch:6; loss:nan; accu:0.100000\n",
      "epoch:7; loss:nan; accu:0.100000\n",
      "epoch:8; loss:nan; accu:0.100000\n",
      "epoch:9; loss:nan; accu:0.100000\n",
      "0:00:07.873552\n"
     ]
    }
   ],
   "source": [
    "epochs = 10\n",
    "\n",
    "t1 = datetime.datetime.now()\n",
    "\n",
    "for e in range(epochs):\n",
    "    train_loss = 0.\n",
    "    train_accu = 0.\n",
    "    \n",
    "    for data,label in data_iter(batch_size=batch_size):\n",
    "        with ag.record():\n",
    "            yhat = net(data)\n",
    "            loss = cross_entropy(yhat,label)\n",
    "        loss.backward()\n",
    "        SGD(params, 0.1/batch_size)\n",
    "\n",
    "        train_loss += nd.mean(loss).asscalar()\n",
    "        train_accu += accuracy(yhat,label)\n",
    "\n",
    "    print(\"epoch:%d; loss:%f; accu:%f\" % (e, \n",
    "                    train_loss/len(train_labels)*batch_size,\n",
    "                    train_accu/len(train_labels)*batch_size))\n",
    "\n",
    "print(datetime.datetime.now()-t1)"
   ]
  },
  {
   "cell_type": "markdown",
   "metadata": {},
   "source": [
    "# Test"
   ]
  },
  {
   "cell_type": "code",
   "execution_count": 15,
   "metadata": {},
   "outputs": [
    {
     "data": {
      "image/png": "[encoded data removed]",
      "text/plain": [
       "<matplotlib.figure.Figure at 0x7f78cc588a58>"
      ]
     },
     "metadata": {},
     "output_type": "display_data"
    },
    {
     "data": {
      "image/png": "[encoded data removed]",
      "text/plain": [
       "<matplotlib.figure.Figure at 0x7f78cc588710>"
      ]
     },
     "metadata": {},
     "output_type": "display_data"
    },
    {
     "name": "stderr",
     "output_type": "stream",
     "text": [
      "/home/kevin/workspace/kproject/calf/fashion.mnist-multiclasic.regression/statiser.py:31: RuntimeWarning: invalid value encountered in true_divide\n",
      "  return self.TP/(self.TP+self.FP)\n"
     ]
    },
    {
     "data": {
      "image/png": "[encoded data removed]",
      "text/plain": [
       "<matplotlib.figure.Figure at 0x7f78cc74dac8>"
      ]
     },
     "metadata": {},
     "output_type": "display_data"
    }
   ],
   "source": [
    "from statiser import Statistics\n",
    "train_statistics = Statistics(net(train_img_nd).argmax(axis=1).asnumpy(), \n",
    "                              train_lab_nd.asnumpy())\n",
    "test_statistics = Statistics(net(test_img_nd).argmax(axis=1).asnumpy(), \n",
    "                             test_lab_nd.asnumpy())\n",
    "train_statistics.show()\n",
    "test_statistics.show()\n",
    "plt.plot(range(10),train_statistics.Recall(),'r')\n",
    "plt.plot(range(10),train_statistics.Precision(),'g')\n",
    "plt.plot(range(10),test_statistics.Recall(),'b')\n",
    "plt.plot(range(10),test_statistics.Precision(),'k')\n",
    "plt.show()"
   ]
  }
 ],
 "metadata": {
  "kernelspec": {
   "display_name": "Python 3",
   "language": "python",
   "name": "python3"
  },
  "language_info": {
   "codemirror_mode": {
    "name": "ipython",
    "version": 3
   },
   "file_extension": ".py",
   "mimetype": "text/x-python",
   "name": "python",
   "nbconvert_exporter": "python",
   "pygments_lexer": "ipython3",
   "version": "3.5.2"
  },
  "toc": {
   "nav_menu": {},
   "number_sections": true,
   "sideBar": true,
   "skip_h1_title": false,
   "toc_cell": false,
   "toc_position": {},
   "toc_section_display": "block",
   "toc_window_display": false
  }
 },
 "nbformat": 4,
 "nbformat_minor": 2
}
