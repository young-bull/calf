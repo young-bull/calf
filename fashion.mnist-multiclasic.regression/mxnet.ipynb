{
 "cells": [
  {
   "cell_type": "code",
   "execution_count": 1,
   "metadata": {
    "collapsed": true
   },
   "outputs": [],
   "source": [
    "import os\n",
    "import sys\n",
    "import datetime\n",
    "\n",
    "import numpy as np\n",
    "import pandas as pd\n",
    "import matplotlib.pyplot as plt\n",
    "\n",
    "import mxnet as mx\n",
    "from mxnet import nd, autograd as ag, gluon\n",
    "from mxnet.gluon import nn\n",
    "from mxnet import init\n",
    "from mxnet import image\n",
    "\n",
    "from dataloader import DataLoader"
   ]
  },
  {
   "cell_type": "code",
   "execution_count": 2,
   "metadata": {},
   "outputs": [
    {
     "name": "stdout",
     "output_type": "stream",
     "text": [
      "python: '3.5.2 (default, Nov 23 2017, 16:37:01) \\n[GCC 5.4.0 20160609]'\n",
      "numpy: '1.15.1'\n",
      "pandas: '0.23.4'\n",
      "mxnet: '1.2.1'\n"
     ]
    }
   ],
   "source": [
    "print(\"python: %r\" % sys.version)\n",
    "print(\"numpy: %r\" % np.__version__)\n",
    "#print(\"matplotlib: %r\" % plt.__version__)\n",
    "print(\"pandas: %r\" % pd.__version__)\n",
    "print(\"mxnet: %r\" % mx.__version__)"
   ]
  },
  {
   "cell_type": "markdown",
   "metadata": {},
   "source": [
    "# Config"
   ]
  },
  {
   "cell_type": "code",
   "execution_count": 3,
   "metadata": {
    "collapsed": true
   },
   "outputs": [],
   "source": [
    "ctx = mx.gpu(0)\n",
    "batch_size = 50"
   ]
  },
  {
   "cell_type": "markdown",
   "metadata": {},
   "source": [
    "# Data"
   ]
  },
  {
   "cell_type": "markdown",
   "metadata": {},
   "source": [
    "## Self"
   ]
  },
  {
   "cell_type": "code",
   "execution_count": 4,
   "metadata": {},
   "outputs": [
    {
     "data": {
      "image/png": "[encoded data removed]",
      "text/plain": [
       "<matplotlib.figure.Figure at 0x7f7f75218fd0>"
      ]
     },
     "metadata": {},
     "output_type": "display_data"
    },
    {
     "data": {
      "text/plain": [
       "[['pullover'],\n",
       " ['ankle boot'],\n",
       " ['shirt'],\n",
       " ['t-shirt'],\n",
       " ['dress,'],\n",
       " ['coat'],\n",
       " ['coat'],\n",
       " ['sandal'],\n",
       " ['coat'],\n",
       " ['bag']]"
      ]
     },
     "execution_count": 4,
     "metadata": {},
     "output_type": "execute_result"
    }
   ],
   "source": [
    "dl = DataLoader(os.environ[\"HOME\"] + '/.datasets/base/fashion-mnist/')\n",
    "train_img,train_labels = dl.get_data(kind='train')\n",
    "test_img,test_labels = dl.get_data(kind='t10k')\n",
    "\n",
    "DataLoader.show_images(train_img[0:10])\n",
    "DataLoader.get_labels(train_labels[0:10])"
   ]
  },
  {
   "cell_type": "code",
   "execution_count": 5,
   "metadata": {
    "scrolled": false
   },
   "outputs": [
    {
     "data": {
      "text/plain": [
       "(60000, 784)"
      ]
     },
     "execution_count": 5,
     "metadata": {},
     "output_type": "execute_result"
    }
   ],
   "source": [
    "train_img.shape"
   ]
  },
  {
   "cell_type": "code",
   "execution_count": 6,
   "metadata": {
    "collapsed": true
   },
   "outputs": [],
   "source": [
    "# 修改为float以便求导，除以255做归一化\n",
    "train_img_nd = nd.array(train_img).astype(np.float32)/255\n",
    "train_lab_nd = nd.array(train_labels).astype(np.float32)\n",
    "test_img_nd = nd.array(test_img).astype(np.float32)/255\n",
    "test_lab_nd = nd.array(test_labels).astype(np.float32)\n",
    "\n",
    "def data_iter(batch_size=100, kind='train'):\n",
    "    if kind != 'train':\n",
    "        idx = list(range(len(test_labels)))\n",
    "        for i in range(0,len(test_labels), batch_size):\n",
    "            j = nd.array(idx[i:min(i+batch_size,len(test_labels))])\n",
    "            yield nd.take(test_img_nd,j).as_in_context(ctx), nd.take(test_lab_nd,j).as_in_context(ctx)\n",
    "    else:\n",
    "        idx = list(range(len(train_labels)))\n",
    "        for i in range(0,len(train_labels), batch_size):\n",
    "            j = nd.array(idx[i:min(i+batch_size,len(train_labels))])\n",
    "            yield nd.take(train_img_nd,j).as_in_context(ctx), nd.take(train_lab_nd,j).as_in_context(ctx)"
   ]
  },
  {
   "cell_type": "markdown",
   "metadata": {},
   "source": [
    "## Gluon"
   ]
  },
  {
   "cell_type": "code",
   "execution_count": 7,
   "metadata": {
    "collapsed": true
   },
   "outputs": [],
   "source": [
    "data_root = \"~/.mxnet/datasets/fashion-mnist\"\n",
    "mnist_train = gluon.data.vision.FashionMNIST(root=data_root, train=True, transform=None)\n",
    "mnist_test = gluon.data.vision.FashionMNIST(root=data_root, train=False, transform=None)"
   ]
  },
  {
   "cell_type": "code",
   "execution_count": 8,
   "metadata": {},
   "outputs": [
    {
     "data": {
      "text/plain": [
       "mxnet.gluon.data.vision.datasets.FashionMNIST"
      ]
     },
     "execution_count": 8,
     "metadata": {},
     "output_type": "execute_result"
    }
   ],
   "source": [
    "type(mnist_train)"
   ]
  },
  {
   "cell_type": "markdown",
   "metadata": {},
   "source": [
    "**FashionMNIST 使用方法：** \n",
    "\n",
    "mnist_train/test 可以这样访问：\n",
    "\n",
    "- `mnist_train[0]` : ([28,28,1],label)\n",
    "- `mnist_train[0:10]`: ([10,28,28,1], (10,)) —— **为什么要这么玩**\n",
    "- 支持 iter 访问"
   ]
  },
  {
   "cell_type": "code",
   "execution_count": 9,
   "metadata": {},
   "outputs": [
    {
     "name": "stdout",
     "output_type": "stream",
     "text": [
      "<class 'tuple'> <class 'mxnet.ndarray.ndarray.NDArray'> <class 'numpy.int32'> (28, 28, 1) ()\n"
     ]
    }
   ],
   "source": [
    "a = mnist_train[0]\n",
    "print(type(a),type(a[0]),type(a[1]),a[0].shape,a[1].shape)"
   ]
  },
  {
   "cell_type": "code",
   "execution_count": 10,
   "metadata": {},
   "outputs": [
    {
     "name": "stdout",
     "output_type": "stream",
     "text": [
      "<class 'tuple'> <class 'mxnet.ndarray.ndarray.NDArray'> <class 'numpy.ndarray'> (10, 28, 28, 1) (10,)\n"
     ]
    }
   ],
   "source": [
    "b = mnist_train[0:10]\n",
    "print(type(b),type(b[0]),type(b[1]),b[0].shape,b[1].shape)"
   ]
  },
  {
   "cell_type": "code",
   "execution_count": 11,
   "metadata": {},
   "outputs": [
    {
     "data": {
      "text/plain": [
       "(10, 28, 28, 1)"
      ]
     },
     "execution_count": 11,
     "metadata": {},
     "output_type": "execute_result"
    }
   ],
   "source": [
    "b[0].shape"
   ]
  },
  {
   "cell_type": "code",
   "execution_count": 12,
   "metadata": {},
   "outputs": [
    {
     "data": {
      "text/plain": [
       "(10, 1, 28, 28)"
      ]
     },
     "execution_count": 12,
     "metadata": {},
     "output_type": "execute_result"
    }
   ],
   "source": [
    "c = nd.transpose(b[0].astype('float32'), (0,3,1,2)) # 0,3,1,2 意思是原来的位置，如何放到现在的位置\n",
    "c.shape"
   ]
  },
  {
   "cell_type": "markdown",
   "metadata": {},
   "source": [
    "(10, 1, 28, 28)： 整理成 nd.Convolution(data) 中 data 的格式，data（即图片）要求格式是：  \n",
    "(batchsize, channel, height, width)"
   ]
  },
  {
   "cell_type": "markdown",
   "metadata": {},
   "source": [
    "# Model"
   ]
  },
  {
   "cell_type": "markdown",
   "metadata": {},
   "source": [
    "## Net\n",
    "\n",
    "$$\\boldsymbol{\\hat y} = net({\\boldsymbol x})$$"
   ]
  },
  {
   "cell_type": "code",
   "execution_count": 13,
   "metadata": {
    "collapsed": true
   },
   "outputs": [],
   "source": [
    "num_input = 28*28\n",
    "num_output = 10"
   ]
  },
  {
   "cell_type": "markdown",
   "metadata": {},
   "source": [
    "### Wb\n",
    "\n",
    "无隐层\n",
    "\n",
    "$$net({\\boldsymbol x}) = {\\boldsymbol{x}}\\ {W} + {\\boldsymbol{b}}$$"
   ]
  },
  {
   "cell_type": "code",
   "execution_count": 14,
   "metadata": {
    "collapsed": true
   },
   "outputs": [],
   "source": [
    "W = nd.random_normal(shape=(num_input, num_output),ctx=ctx)\n",
    "b = nd.random_normal(shape=(num_output),ctx=ctx)\n",
    "\n",
    "wb_params = [W,b]\n",
    "for p in wb_params:\n",
    "    p.attach_grad()"
   ]
  },
  {
   "cell_type": "code",
   "execution_count": 15,
   "metadata": {
    "collapsed": true
   },
   "outputs": [],
   "source": [
    "def net_wb(X):\n",
    "    return nd.dot(X,W) + b"
   ]
  },
  {
   "cell_type": "markdown",
   "metadata": {},
   "source": [
    "### MLP\n",
    "\n",
    "加入1个隐层"
   ]
  },
  {
   "cell_type": "code",
   "execution_count": 16,
   "metadata": {
    "collapsed": true
   },
   "outputs": [],
   "source": [
    "def relu(X):\n",
    "    return nd.maximum(X,0)"
   ]
  },
  {
   "cell_type": "code",
   "execution_count": 17,
   "metadata": {
    "collapsed": true
   },
   "outputs": [],
   "source": [
    "num_hidden = 256\n",
    "weight_scale = .01\n",
    "\n",
    "# MXNet 的公式是 y=XW+b，吴恩达的公式是 y=WX+b，所以两者W的shape定义是相反的。\n",
    "W1 = nd.random_normal(shape=(num_input,num_hidden), scale=weight_scale,ctx=ctx)\n",
    "b1 = nd.zeros(num_hidden,ctx=ctx)\n",
    "\n",
    "W2 = nd.random_normal(shape=(num_hidden,num_output),scale=weight_scale,ctx=ctx)\n",
    "b2 = nd.zeros(num_output,ctx=ctx)\n",
    "\n",
    "mlp_params = [W1,b1,W2,b2]\n",
    "for p in mlp_params:\n",
    "    p.attach_grad()"
   ]
  },
  {
   "cell_type": "code",
   "execution_count": 18,
   "metadata": {
    "collapsed": true
   },
   "outputs": [],
   "source": [
    "def net_mlp(X):\n",
    "    X = X.reshape((-1, num_input))\n",
    "    h1 = relu(nd.dot(X,W1) + b1)\n",
    "    output = nd.dot(h1,W2) + b2\n",
    "    return output"
   ]
  },
  {
   "cell_type": "markdown",
   "metadata": {},
   "source": [
    "### MLP_gluon"
   ]
  },
  {
   "cell_type": "code",
   "execution_count": 19,
   "metadata": {
    "collapsed": true
   },
   "outputs": [],
   "source": [
    "mlp_net = gluon.nn.Sequential()\n",
    "with mlp_net.name_scope():\n",
    "    mlp_net.add(gluon.nn.Dense(256, activation=\"relu\"))\n",
    "    mlp_net.add(gluon.nn.Dropout(0.5))\n",
    "    mlp_net.add(gluon.nn.Dense(10))\n",
    "mlp_net.initialize(ctx=ctx)"
   ]
  },
  {
   "cell_type": "code",
   "execution_count": 20,
   "metadata": {
    "collapsed": true
   },
   "outputs": [],
   "source": [
    "def net_mlp_gluon(X):\n",
    "    return mlp_net(X)"
   ]
  },
  {
   "cell_type": "markdown",
   "metadata": {},
   "source": [
    "### LeNet"
   ]
  },
  {
   "cell_type": "code",
   "execution_count": 21,
   "metadata": {
    "collapsed": true
   },
   "outputs": [],
   "source": [
    "weight_scale = .01\n",
    "\n",
    "# output channels = 20, kernel = (5,5)\n",
    "lenet_W1 = nd.random_normal(shape=(20,1,5,5), scale=weight_scale, ctx=ctx)\n",
    "lenet_b1 = nd.zeros(lenet_W1.shape[0], ctx=ctx)\n",
    "\n",
    "# output channels = 50, kernel = (3,3)\n",
    "lenet_W2 = nd.random_normal(shape=(50,20,3,3), scale=weight_scale, ctx=ctx)\n",
    "lenet_b2 = nd.zeros(lenet_W2.shape[0], ctx=ctx)\n",
    "\n",
    "# output dim = 128\n",
    "lenet_W3 = nd.random_normal(shape=(1250, 128), scale=weight_scale, ctx=ctx)\n",
    "lenet_b3 = nd.zeros(lenet_W3.shape[1], ctx=ctx)\n",
    "\n",
    "# output dim = 10\n",
    "lenet_W4 = nd.random_normal(shape=(lenet_W3.shape[1], 10), scale=weight_scale, ctx=ctx)\n",
    "lenet_b4 = nd.zeros(lenet_W4.shape[1], ctx=ctx)\n",
    "\n",
    "lenet_params = [lenet_W1, lenet_b1, lenet_W2, lenet_b2, lenet_W3, lenet_b3, lenet_W4, lenet_b4]\n",
    "for param in lenet_params:\n",
    "    param.attach_grad()"
   ]
  },
  {
   "cell_type": "code",
   "execution_count": 22,
   "metadata": {
    "collapsed": true
   },
   "outputs": [],
   "source": [
    "def net_lenet(X, verbose=False):    \n",
    "    # 第一层卷积\n",
    "    h1_conv = nd.Convolution(\n",
    "        data=X, weight=lenet_W1, bias=lenet_b1, kernel=lenet_W1.shape[2:], num_filter=lenet_W1.shape[0])\n",
    "    h1_activation = nd.relu(h1_conv)\n",
    "    h1 = nd.Pooling(\n",
    "        data=h1_activation, pool_type=\"max\", kernel=(2,2), stride=(2,2))\n",
    "    # 第二层卷积\n",
    "    h2_conv = nd.Convolution(\n",
    "        data=h1, weight=lenet_W2, bias=lenet_b2, kernel=lenet_W2.shape[2:], num_filter=lenet_W2.shape[0])\n",
    "    h2_activation = nd.relu(h2_conv)\n",
    "    h2 = nd.Pooling(data=h2_activation, pool_type=\"max\", kernel=(2,2), stride=(2,2))\n",
    "    h2 = nd.flatten(h2)\n",
    "    # 第一层全连接\n",
    "    h3_linear = nd.dot(h2, lenet_W3) + lenet_b3\n",
    "    h3 = nd.relu(h3_linear)\n",
    "    # 第二层全连接\n",
    "    h4_linear = nd.dot(h3, lenet_W4) + lenet_b4\n",
    "    if verbose:\n",
    "        print('1st conv block:', h1.shape)\n",
    "        print('2nd conv block:', h2.shape)\n",
    "        print('1st dense:', h3.shape)\n",
    "        print('2nd dense:', h4_linear.shape)\n",
    "        print('output:', h4_linear)\n",
    "    return h4_linear"
   ]
  },
  {
   "cell_type": "markdown",
   "metadata": {},
   "source": [
    "### LeNet_gluon"
   ]
  },
  {
   "cell_type": "code",
   "execution_count": 23,
   "metadata": {
    "collapsed": true
   },
   "outputs": [],
   "source": [
    "lenet = nn.Sequential()\n",
    "with lenet.name_scope():\n",
    "    lenet.add(\n",
    "        nn.Conv2D(channels=20, kernel_size=5, activation='relu'),\n",
    "        nn.MaxPool2D(pool_size=2, strides=2),\n",
    "        nn.Conv2D(channels=50, kernel_size=3, activation='relu'),\n",
    "        nn.MaxPool2D(pool_size=2, strides=2),\n",
    "        nn.Flatten(),\n",
    "        nn.Dense(128, activation=\"relu\"),\n",
    "        nn.Dense(10)\n",
    "    )\n",
    "lenet.initialize(ctx=ctx)"
   ]
  },
  {
   "cell_type": "code",
   "execution_count": 24,
   "metadata": {
    "collapsed": true
   },
   "outputs": [],
   "source": [
    "def net_lenet_gluon(X):\n",
    "    return lenet(X)"
   ]
  },
  {
   "cell_type": "markdown",
   "metadata": {},
   "source": [
    "### VGG_gluon"
   ]
  },
  {
   "cell_type": "code",
   "execution_count": 25,
   "metadata": {
    "collapsed": true
   },
   "outputs": [],
   "source": [
    "arch_A = ((1,64),(1,128),(2,256),(2,512),(2,512))\n",
    "arch_B = ((2,64),(2,128),(2,256),(2,512),(2,512))\n",
    "arch_D = ((2,64),(2,128),(3,256),(3,512),(3,512))\n",
    "arch_E = ((2,64),(2,128),(4,256),(4,512),(4,512))\n",
    "\n",
    "def vgg_stack(arch):\n",
    "    out = nn.Sequential()\n",
    "    for (num_convs, channels) in arch:\n",
    "        seq = nn.Sequential()\n",
    "        for _ in range(num_convs):\n",
    "            seq.add(nn.Conv2D(channels=channels,kernel_size=3,\n",
    "                          padding=1,activation='relu'))\n",
    "        seq.add(nn.MaxPool2D(pool_size=2, strides=2))\n",
    "        out.add(seq)\n",
    "    return out\n",
    "    \n",
    "vgg_net = nn.Sequential()\n",
    "with vgg_net.name_scope():\n",
    "    vgg_net.add(\n",
    "        vgg_stack(arch_A),\n",
    "        nn.Flatten(),\n",
    "        nn.Dense(4096, activation='relu'),\n",
    "        nn.Dropout(0.5),\n",
    "        nn.Dense(4096, activation='relu'),\n",
    "        nn.Dropout(0.5),\n",
    "        nn.Dense(10))\n",
    "vgg_net.initialize(ctx=ctx, init=init.Xavier())"
   ]
  },
  {
   "cell_type": "code",
   "execution_count": 26,
   "metadata": {
    "collapsed": true
   },
   "outputs": [],
   "source": [
    "def net_vgg_gluon(X):\n",
    "    return vgg_net(X)"
   ]
  },
  {
   "cell_type": "markdown",
   "metadata": {},
   "source": [
    "### **net( )**"
   ]
  },
  {
   "cell_type": "code",
   "execution_count": 27,
   "metadata": {
    "collapsed": true
   },
   "outputs": [],
   "source": [
    "# data shape: (batchsize, height, width, channel)\n",
    "# out  shape: (batchsize, channel, height, width)\n",
    "def resize_img(data, resize=None):\n",
    "    if resize:\n",
    "        n = data.shape[0]\n",
    "        new_data = nd.zeros((n, resize, resize, data.shape[3]))\n",
    "        for i in range(n):\n",
    "            new_data[i] = image.imresize(data[i].as_in_context(mx.cpu()), \n",
    "                                         resize, resize)\n",
    "        data = new_data\n",
    "    return nd.transpose(data.astype('float32'),(0,3,1,2))/255"
   ]
  },
  {
   "cell_type": "code",
   "execution_count": 28,
   "metadata": {
    "collapsed": true
   },
   "outputs": [],
   "source": [
    "def net(data, net_type='wb'):\n",
    "    data = data.as_in_context(ctx)\n",
    "    # data.shape: 100*784\n",
    "    if net_type == 'wb':\n",
    "        return net_wb(data)\n",
    "    elif net_type == 'mlp':\n",
    "        return net_mlp(data)\n",
    "    elif net_type == 'mlp_gluon':\n",
    "        return net_mlp_gluon(data)\n",
    "    elif net_type == 'lenet':\n",
    "        data = data.reshape((data.shape[0],1,28,28))\n",
    "        return net_lenet(data.astype('float32'))\n",
    "    elif net_type == 'lenet_gluon':\n",
    "        data = data.reshape((data.shape[0],1,28,28))\n",
    "        return net_lenet_gluon(data.astype('float32'))\n",
    "    elif net_type == 'vgg_gluon':\n",
    "        data = data.reshape((data.shape[0],28,28,1))\n",
    "        data = resize_img(data, resize=96)\n",
    "        data = data.as_in_context(ctx)\n",
    "        return net_vgg_gluon(data.astype('float32'))\n",
    "    else:\n",
    "        return None"
   ]
  },
  {
   "cell_type": "markdown",
   "metadata": {},
   "source": [
    "## Loss"
   ]
  },
  {
   "cell_type": "markdown",
   "metadata": {},
   "source": [
    "### Self"
   ]
  },
  {
   "cell_type": "markdown",
   "metadata": {},
   "source": [
    "$$softmax(\\mathbf{z})_j = \\frac{e^{z_j}}{\\sum_{k=1}^K e^{z_k}}$$"
   ]
  },
  {
   "cell_type": "code",
   "execution_count": 29,
   "metadata": {
    "collapsed": true
   },
   "outputs": [],
   "source": [
    "def softmax(X):\n",
    "    e = nd.exp(X)\n",
    "    t = nd.sum(e, axis=1, keepdims=True)\n",
    "    return e/t"
   ]
  },
  {
   "cell_type": "markdown",
   "metadata": {},
   "source": [
    "交叉熵 Cross Entropy: \n",
    "\n",
    "$$-\\sum_i \\log p_{i,{label}_i}$$"
   ]
  },
  {
   "cell_type": "code",
   "execution_count": 30,
   "metadata": {
    "collapsed": true
   },
   "outputs": [],
   "source": [
    "def cross_entropy(yhat,y):\n",
    "    # yhat数组（10个元素）中取出索引为 y 的那个元素\n",
    "    # rt = - nd.log(nd.pick(yhat,y)) \n",
    "    rt = - nd.pick(nd.log(yhat),y)\n",
    "    rt = nd.mean(rt, axis=0, exclude=True)\n",
    "    return rt"
   ]
  },
  {
   "cell_type": "markdown",
   "metadata": {},
   "source": [
    "### Gluon"
   ]
  },
  {
   "cell_type": "markdown",
   "metadata": {},
   "source": [
    "gluon.loss.xxx\n",
    "\n",
    "- L1Loss: $$L = \\sum_i \\vert {pred}_i - {label}_i \\vert.$$\n",
    "- L2Loss: $$L = \\frac{1}{2} \\sum_i \\vert {pred}_i - {label}_i \\vert^2.$$\n",
    "- SigmoidBinaryCrossEntropyLoss: $$\\begin{align}\\begin{aligned}prob = \\frac{1}{1 + \\exp(-{pred})}\\\\L = - \\sum_i {label}_i * \\log({prob}_i) + (1 - {label}_i) * \\log(1 - {prob}_i)\\end{aligned}\\end{align}$$\n",
    "- SoftmaxCrossEntropyLoss: $$\\begin{align}\\begin{aligned}\\DeclareMathOperator{softmax}{softmax}\\\\p = \\softmax({pred})\\\\L = -\\sum_i \\log p_{i,{label}_i}\\end{aligned}\\end{align}$$\n",
    "- KLDivLoss: $$L = \\sum_i {label}_i * \\big[\\log({label}_i) - {pred}_i\\big]$$\n",
    "- CTCLoss\n",
    "- HuberLoss\n",
    "- HingeLoss\n",
    "- SquaredHingeLoss\n",
    "- LogisticLoss:$$L = \\sum_i \\log(1 + \\exp(- {pred}_i \\cdot {label}_i))$$\n",
    "- TripletLoss"
   ]
  },
  {
   "cell_type": "code",
   "execution_count": 31,
   "metadata": {
    "collapsed": true
   },
   "outputs": [],
   "source": [
    "loss_softmax_ce = gluon.loss.SoftmaxCrossEntropyLoss()"
   ]
  },
  {
   "cell_type": "markdown",
   "metadata": {},
   "source": [
    "## Optimizer/Trainner"
   ]
  },
  {
   "cell_type": "markdown",
   "metadata": {},
   "source": [
    "### Self"
   ]
  },
  {
   "cell_type": "code",
   "execution_count": 32,
   "metadata": {
    "collapsed": true
   },
   "outputs": [],
   "source": [
    "def SGD(params, lr):\n",
    "    for p in params:\n",
    "        p[:] = p - lr*p.grad"
   ]
  },
  {
   "cell_type": "code",
   "execution_count": 33,
   "metadata": {
    "collapsed": true
   },
   "outputs": [],
   "source": [
    "sgd = mx.optimizer.SGD()"
   ]
  },
  {
   "cell_type": "markdown",
   "metadata": {},
   "source": [
    "### Gluon"
   ]
  },
  {
   "cell_type": "code",
   "execution_count": 34,
   "metadata": {
    "collapsed": true
   },
   "outputs": [],
   "source": [
    "def get_trainer(net):\n",
    "    return gluon.Trainer(net.collect_params(), \n",
    "                        'sgd', \n",
    "                        {'learning_rate': 0.5})"
   ]
  },
  {
   "cell_type": "markdown",
   "metadata": {},
   "source": [
    "# Evaluation"
   ]
  },
  {
   "cell_type": "code",
   "execution_count": 35,
   "metadata": {
    "collapsed": true
   },
   "outputs": [],
   "source": [
    "def accuracy(yhat,y):\n",
    "    return nd.mean(yhat.argmax(axis=1)==y).asscalar()"
   ]
  },
  {
   "cell_type": "markdown",
   "metadata": {},
   "source": [
    "# Train"
   ]
  },
  {
   "cell_type": "code",
   "execution_count": 36,
   "metadata": {
    "collapsed": true
   },
   "outputs": [],
   "source": [
    "def train(epochs=5, learning_rate=.1, net_type='wb', params=wb_params, trainer=None):\n",
    "    t1 = datetime.datetime.now()\n",
    "    prev_time = datetime.datetime.now()\n",
    "    for e in range(epochs):\n",
    "        train_loss = 0.\n",
    "        train_accu = 0.\n",
    "        test_accu  = 0.\n",
    "\n",
    "        i = 0\n",
    "        for data,label in data_iter(batch_size=batch_size):\n",
    "            i += 1\n",
    "            print('\\r%4d %d%%' % (i, 100*i/(train_img.shape[0]/batch_size)), end='')\n",
    "            with ag.record():\n",
    "                yhat = net(data, net_type)\n",
    "                # 首选mxnet的loss：\n",
    "                # mxnet的loss，W、b的均值不变、方差变小\n",
    "                # 自己手写的loss会让W、b的均值单调递增，最后变为nan —— learning rate 小一点可以拖后变nan的次数，但早晚也是变nan\n",
    "                if 1:\n",
    "                    loss = loss_softmax_ce(yhat,label)\n",
    "                else:\n",
    "                    loss  = cross_entropy(softmax(yhat),label)\n",
    "            loss.backward()\n",
    "            if trainer == None:\n",
    "                SGD(params, learning_rate/batch_size)\n",
    "            else:\n",
    "                trainer.step(batch_size)\n",
    "            train_loss += nd.mean(loss).asscalar()\n",
    "            train_accu += accuracy(yhat,label)\n",
    "        #print(\"\\r\\nyhat sum:%f, var:%f, mean:%f\" % (np.sum(yhat.asnumpy()), np.var(yhat.asnumpy()), np.mean(yhat.asnumpy())))\n",
    "        #print(\"W sum:%f, var:%f, mean:%f\" % (np.sum(W.asnumpy()), np.var(W.asnumpy()), np.mean(W.asnumpy())))\n",
    "        #print(\"b sum:%f, var:%f, mean:%f\" % (np.sum(b.asnumpy()), np.var(b.asnumpy()), np.mean(b.asnumpy())))\n",
    "\n",
    "        for data,label in data_iter(batch_size=batch_size,kind='test'):\n",
    "            data  = data.as_in_context(ctx)\n",
    "            label = label.as_in_context(ctx)\n",
    "            yhat = net(data, net_type)\n",
    "            test_accu += accuracy(yhat, label)\n",
    "                \n",
    "        cur_time = datetime.datetime.now()\n",
    "        h, remainder = divmod((cur_time - prev_time).seconds, 3600)\n",
    "        m, s = divmod(remainder, 60)\n",
    "        time_str = \"Time %02d:%02d:%02d\" % (h, m, s)\n",
    "        prev_time = cur_time\n",
    "        \n",
    "        print(\"\\r%s epoch:%d; loss:%f; Train accu:%f; Test accu:%f; Time:%s\" % (\n",
    "                        net_type, e, \n",
    "                        train_loss/len(train_labels)*batch_size,\n",
    "                        train_accu/len(train_labels)*batch_size,\n",
    "                        test_accu/len(test_labels)*batch_size,\n",
    "                        time_str))\n",
    "\n",
    "    print(datetime.datetime.now()-t1)"
   ]
  },
  {
   "cell_type": "code",
   "execution_count": 37,
   "metadata": {
    "scrolled": false
   },
   "outputs": [
    {
     "name": "stdout",
     "output_type": "stream",
     "text": [
      "wb epoch:0; loss:1.990911; Train accu:0.632633; Test accu:0.723500; Time:Time 00:00:01\n",
      "wb epoch:1; loss:1.134481; Train accu:0.743483; Test accu:0.758300; Time:Time 00:00:01\n",
      "wb epoch:2; loss:0.961380; Train accu:0.769050; Test accu:0.777200; Time:Time 00:00:01\n",
      "wb epoch:3; loss:0.866320; Train accu:0.781950; Test accu:0.787200; Time:Time 00:00:01\n",
      "wb epoch:4; loss:0.802320; Train accu:0.791517; Test accu:0.794900; Time:Time 00:00:01\n",
      "wb epoch:5; loss:0.754979; Train accu:0.798200; Test accu:0.798700; Time:Time 00:00:01\n",
      "wb epoch:6; loss:0.718040; Train accu:0.804000; Test accu:0.803100; Time:Time 00:00:01\n",
      "wb epoch:7; loss:0.688148; Train accu:0.808567; Test accu:0.807000; Time:Time 00:00:01\n",
      "wb epoch:8; loss:0.663303; Train accu:0.811733; Test accu:0.808900; Time:Time 00:00:01\n",
      "wb epoch:9; loss:0.642239; Train accu:0.815017; Test accu:0.811000; Time:Time 00:00:01\n",
      "0:00:16.242213\n"
     ]
    }
   ],
   "source": [
    "train(net_type='wb', params=wb_params, epochs=10)"
   ]
  },
  {
   "cell_type": "code",
   "execution_count": 38,
   "metadata": {},
   "outputs": [
    {
     "name": "stdout",
     "output_type": "stream",
     "text": [
      "mlp epoch:0; loss:0.652557; Train accu:0.765483; Test accu:0.834900; Time:Time 00:00:02\n",
      "mlp epoch:1; loss:0.435276; Train accu:0.842683; Test accu:0.855800; Time:Time 00:00:02\n",
      "mlp epoch:2; loss:0.389818; Train accu:0.859283; Test accu:0.866800; Time:Time 00:00:02\n",
      "mlp epoch:3; loss:0.362056; Train accu:0.868283; Test accu:0.874600; Time:Time 00:00:02\n",
      "mlp epoch:4; loss:0.341983; Train accu:0.875867; Test accu:0.880500; Time:Time 00:00:02\n",
      "0:00:10.255691\n"
     ]
    }
   ],
   "source": [
    "train(net_type='mlp', params=mlp_params)"
   ]
  },
  {
   "cell_type": "code",
   "execution_count": 39,
   "metadata": {
    "scrolled": false
   },
   "outputs": [
    {
     "name": "stdout",
     "output_type": "stream",
     "text": [
      "mlp_gluon epoch:0; loss:0.918494; Train accu:0.651183; Test accu:0.760200; Time:Time 00:00:01\n",
      "mlp_gluon epoch:1; loss:0.714639; Train accu:0.726967; Test accu:0.786400; Time:Time 00:00:02\n",
      "mlp_gluon epoch:2; loss:0.656104; Train accu:0.754450; Test accu:0.835300; Time:Time 00:00:02\n",
      "mlp_gluon epoch:3; loss:0.613184; Train accu:0.772083; Test accu:0.780600; Time:Time 00:00:01\n",
      "mlp_gluon epoch:4; loss:0.594230; Train accu:0.781583; Test accu:0.817800; Time:Time 00:00:01\n",
      "0:00:09.941778\n"
     ]
    }
   ],
   "source": [
    "train(net_type='mlp_gluon',trainer=get_trainer(mlp_net))"
   ]
  },
  {
   "cell_type": "code",
   "execution_count": 40,
   "metadata": {},
   "outputs": [
    {
     "name": "stdout",
     "output_type": "stream",
     "text": [
      "lenet epoch:0; loss:1.507709; Train accu:0.418667; Test accu:0.771100; Time:Time 00:00:06\n",
      "lenet epoch:1; loss:0.510878; Train accu:0.807533; Test accu:0.858800; Time:Time 00:00:06\n",
      "lenet epoch:2; loss:0.395434; Train accu:0.854750; Test accu:0.872800; Time:Time 00:00:06\n",
      "lenet epoch:3; loss:0.345393; Train accu:0.873133; Test accu:0.880500; Time:Time 00:00:06\n",
      "lenet epoch:4; loss:0.315531; Train accu:0.884317; Test accu:0.882800; Time:Time 00:00:06\n",
      "0:00:33.791102\n"
     ]
    }
   ],
   "source": [
    "train(net_type='lenet', params=lenet_params)"
   ]
  },
  {
   "cell_type": "code",
   "execution_count": 41,
   "metadata": {},
   "outputs": [
    {
     "name": "stdout",
     "output_type": "stream",
     "text": [
      "lenet_gluon epoch:0; loss:0.563640; Train accu:0.789850; Test accu:0.868200; Time:Time 00:00:06\n",
      "lenet_gluon epoch:1; loss:0.348757; Train accu:0.869317; Test accu:0.883600; Time:Time 00:00:06\n",
      "lenet_gluon epoch:2; loss:0.309822; Train accu:0.883717; Test accu:0.888100; Time:Time 00:00:06\n",
      "lenet_gluon epoch:3; loss:0.285167; Train accu:0.892317; Test accu:0.888800; Time:Time 00:00:06\n",
      "lenet_gluon epoch:4; loss:0.268244; Train accu:0.898000; Test accu:0.890300; Time:Time 00:00:06\n",
      "0:00:32.280320\n"
     ]
    }
   ],
   "source": [
    "train(net_type='lenet_gluon', trainer=get_trainer(lenet))"
   ]
  },
  {
   "cell_type": "code",
   "execution_count": 42,
   "metadata": {
    "scrolled": false
   },
   "outputs": [
    {
     "name": "stdout",
     "output_type": "stream",
     "text": [
      "\r",
      "   1 0%"
     ]
    },
    {
     "ename": "MXNetError",
     "evalue": "[19:09:27] src/storage/./pooled_storage_manager.h:108: cudaMalloc failed: out of memory\n\nStack trace returned 10 entries:\n[bt] (0) /home/kevin/workspace/pyvenv/py3venv/lib/python3.5/site-packages/mxnet/libmxnet.so(+0x31f81a) [0x7f7f345d781a]\n[bt] (1) /home/kevin/workspace/pyvenv/py3venv/lib/python3.5/site-packages/mxnet/libmxnet.so(+0x31fe41) [0x7f7f345d7e41]\n[bt] (2) /home/kevin/workspace/pyvenv/py3venv/lib/python3.5/site-packages/mxnet/libmxnet.so(+0x29eea63) [0x7f7f36ca6a63]\n[bt] (3) /home/kevin/workspace/pyvenv/py3venv/lib/python3.5/site-packages/mxnet/libmxnet.so(+0x29f3315) [0x7f7f36cab315]\n[bt] (4) /home/kevin/workspace/pyvenv/py3venv/lib/python3.5/site-packages/mxnet/libmxnet.so(+0x459114) [0x7f7f34711114]\n[bt] (5) /home/kevin/workspace/pyvenv/py3venv/lib/python3.5/site-packages/mxnet/libmxnet.so(+0x2508b0d) [0x7f7f367c0b0d]\n[bt] (6) /home/kevin/workspace/pyvenv/py3venv/lib/python3.5/site-packages/mxnet/libmxnet.so(+0x2508fe3) [0x7f7f367c0fe3]\n[bt] (7) /home/kevin/workspace/pyvenv/py3venv/lib/python3.5/site-packages/mxnet/libmxnet.so(+0x2480fbd) [0x7f7f36738fbd]\n[bt] (8) /home/kevin/workspace/pyvenv/py3venv/lib/python3.5/site-packages/mxnet/libmxnet.so(+0x2480fa7) [0x7f7f36738fa7]\n[bt] (9) /home/kevin/workspace/pyvenv/py3venv/lib/python3.5/site-packages/mxnet/libmxnet.so(+0x2480fa7) [0x7f7f36738fa7]\n\n",
     "output_type": "error",
     "traceback": [
      "\u001b[0;31m---------------------------------------------------------------------------\u001b[0m",
      "\u001b[0;31mMXNetError\u001b[0m                                Traceback (most recent call last)",
      "\u001b[0;32m<ipython-input-42-885c2812a182>\u001b[0m in \u001b[0;36m<module>\u001b[0;34m()\u001b[0m\n\u001b[0;32m----> 1\u001b[0;31m \u001b[0mtrain\u001b[0m\u001b[0;34m(\u001b[0m\u001b[0mnet_type\u001b[0m\u001b[0;34m=\u001b[0m\u001b[0;34m'vgg_gluon'\u001b[0m\u001b[0;34m,\u001b[0m \u001b[0mtrainer\u001b[0m\u001b[0;34m=\u001b[0m\u001b[0mget_trainer\u001b[0m\u001b[0;34m(\u001b[0m\u001b[0mvgg_net\u001b[0m\u001b[0;34m)\u001b[0m\u001b[0;34m,\u001b[0m \u001b[0mepochs\u001b[0m\u001b[0;34m=\u001b[0m\u001b[0;36m1\u001b[0m\u001b[0;34m)\u001b[0m\u001b[0;34m\u001b[0m\u001b[0m\n\u001b[0m",
      "\u001b[0;32m<ipython-input-36-2ffd9bedba44>\u001b[0m in \u001b[0;36mtrain\u001b[0;34m(epochs, learning_rate, net_type, params, trainer)\u001b[0m\n\u001b[1;32m     25\u001b[0m             \u001b[0;32melse\u001b[0m\u001b[0;34m:\u001b[0m\u001b[0;34m\u001b[0m\u001b[0m\n\u001b[1;32m     26\u001b[0m                 \u001b[0mtrainer\u001b[0m\u001b[0;34m.\u001b[0m\u001b[0mstep\u001b[0m\u001b[0;34m(\u001b[0m\u001b[0mbatch_size\u001b[0m\u001b[0;34m)\u001b[0m\u001b[0;34m\u001b[0m\u001b[0m\n\u001b[0;32m---> 27\u001b[0;31m             \u001b[0mtrain_loss\u001b[0m \u001b[0;34m+=\u001b[0m \u001b[0mnd\u001b[0m\u001b[0;34m.\u001b[0m\u001b[0mmean\u001b[0m\u001b[0;34m(\u001b[0m\u001b[0mloss\u001b[0m\u001b[0;34m)\u001b[0m\u001b[0;34m.\u001b[0m\u001b[0masscalar\u001b[0m\u001b[0;34m(\u001b[0m\u001b[0;34m)\u001b[0m\u001b[0;34m\u001b[0m\u001b[0m\n\u001b[0m\u001b[1;32m     28\u001b[0m             \u001b[0mtrain_accu\u001b[0m \u001b[0;34m+=\u001b[0m \u001b[0maccuracy\u001b[0m\u001b[0;34m(\u001b[0m\u001b[0myhat\u001b[0m\u001b[0;34m,\u001b[0m\u001b[0mlabel\u001b[0m\u001b[0;34m)\u001b[0m\u001b[0;34m\u001b[0m\u001b[0m\n\u001b[1;32m     29\u001b[0m         \u001b[0;31m#print(\"\\r\\nyhat sum:%f, var:%f, mean:%f\" % (np.sum(yhat.asnumpy()), np.var(yhat.asnumpy()), np.mean(yhat.asnumpy())))\u001b[0m\u001b[0;34m\u001b[0m\u001b[0;34m\u001b[0m\u001b[0m\n",
      "\u001b[0;32m~/workspace/pyvenv/py3venv/lib/python3.5/site-packages/mxnet/ndarray/ndarray.py\u001b[0m in \u001b[0;36masscalar\u001b[0;34m(self)\u001b[0m\n\u001b[1;32m   1892\u001b[0m         \u001b[0;32mif\u001b[0m \u001b[0mself\u001b[0m\u001b[0;34m.\u001b[0m\u001b[0mshape\u001b[0m \u001b[0;34m!=\u001b[0m \u001b[0;34m(\u001b[0m\u001b[0;36m1\u001b[0m\u001b[0;34m,\u001b[0m\u001b[0;34m)\u001b[0m\u001b[0;34m:\u001b[0m\u001b[0;34m\u001b[0m\u001b[0m\n\u001b[1;32m   1893\u001b[0m             \u001b[0;32mraise\u001b[0m \u001b[0mValueError\u001b[0m\u001b[0;34m(\u001b[0m\u001b[0;34m\"The current array is not a scalar\"\u001b[0m\u001b[0;34m)\u001b[0m\u001b[0;34m\u001b[0m\u001b[0m\n\u001b[0;32m-> 1894\u001b[0;31m         \u001b[0;32mreturn\u001b[0m \u001b[0mself\u001b[0m\u001b[0;34m.\u001b[0m\u001b[0masnumpy\u001b[0m\u001b[0;34m(\u001b[0m\u001b[0;34m)\u001b[0m\u001b[0;34m[\u001b[0m\u001b[0;36m0\u001b[0m\u001b[0;34m]\u001b[0m\u001b[0;34m\u001b[0m\u001b[0m\n\u001b[0m\u001b[1;32m   1895\u001b[0m \u001b[0;34m\u001b[0m\u001b[0m\n\u001b[1;32m   1896\u001b[0m     \u001b[0;32mdef\u001b[0m \u001b[0mastype\u001b[0m\u001b[0;34m(\u001b[0m\u001b[0mself\u001b[0m\u001b[0;34m,\u001b[0m \u001b[0mdtype\u001b[0m\u001b[0;34m,\u001b[0m \u001b[0mcopy\u001b[0m\u001b[0;34m=\u001b[0m\u001b[0;32mTrue\u001b[0m\u001b[0;34m)\u001b[0m\u001b[0;34m:\u001b[0m\u001b[0;34m\u001b[0m\u001b[0m\n",
      "\u001b[0;32m~/workspace/pyvenv/py3venv/lib/python3.5/site-packages/mxnet/ndarray/ndarray.py\u001b[0m in \u001b[0;36masnumpy\u001b[0;34m(self)\u001b[0m\n\u001b[1;32m   1874\u001b[0m             \u001b[0mself\u001b[0m\u001b[0;34m.\u001b[0m\u001b[0mhandle\u001b[0m\u001b[0;34m,\u001b[0m\u001b[0;34m\u001b[0m\u001b[0m\n\u001b[1;32m   1875\u001b[0m             \u001b[0mdata\u001b[0m\u001b[0;34m.\u001b[0m\u001b[0mctypes\u001b[0m\u001b[0;34m.\u001b[0m\u001b[0mdata_as\u001b[0m\u001b[0;34m(\u001b[0m\u001b[0mctypes\u001b[0m\u001b[0;34m.\u001b[0m\u001b[0mc_void_p\u001b[0m\u001b[0;34m)\u001b[0m\u001b[0;34m,\u001b[0m\u001b[0;34m\u001b[0m\u001b[0m\n\u001b[0;32m-> 1876\u001b[0;31m             ctypes.c_size_t(data.size)))\n\u001b[0m\u001b[1;32m   1877\u001b[0m         \u001b[0;32mreturn\u001b[0m \u001b[0mdata\u001b[0m\u001b[0;34m\u001b[0m\u001b[0m\n\u001b[1;32m   1878\u001b[0m \u001b[0;34m\u001b[0m\u001b[0m\n",
      "\u001b[0;32m~/workspace/pyvenv/py3venv/lib/python3.5/site-packages/mxnet/base.py\u001b[0m in \u001b[0;36mcheck_call\u001b[0;34m(ret)\u001b[0m\n\u001b[1;32m    147\u001b[0m     \"\"\"\n\u001b[1;32m    148\u001b[0m     \u001b[0;32mif\u001b[0m \u001b[0mret\u001b[0m \u001b[0;34m!=\u001b[0m \u001b[0;36m0\u001b[0m\u001b[0;34m:\u001b[0m\u001b[0;34m\u001b[0m\u001b[0m\n\u001b[0;32m--> 149\u001b[0;31m         \u001b[0;32mraise\u001b[0m \u001b[0mMXNetError\u001b[0m\u001b[0;34m(\u001b[0m\u001b[0mpy_str\u001b[0m\u001b[0;34m(\u001b[0m\u001b[0m_LIB\u001b[0m\u001b[0;34m.\u001b[0m\u001b[0mMXGetLastError\u001b[0m\u001b[0;34m(\u001b[0m\u001b[0;34m)\u001b[0m\u001b[0;34m)\u001b[0m\u001b[0;34m)\u001b[0m\u001b[0;34m\u001b[0m\u001b[0m\n\u001b[0m\u001b[1;32m    150\u001b[0m \u001b[0;34m\u001b[0m\u001b[0m\n\u001b[1;32m    151\u001b[0m \u001b[0;34m\u001b[0m\u001b[0m\n",
      "\u001b[0;31mMXNetError\u001b[0m: [19:09:27] src/storage/./pooled_storage_manager.h:108: cudaMalloc failed: out of memory\n\nStack trace returned 10 entries:\n[bt] (0) /home/kevin/workspace/pyvenv/py3venv/lib/python3.5/site-packages/mxnet/libmxnet.so(+0x31f81a) [0x7f7f345d781a]\n[bt] (1) /home/kevin/workspace/pyvenv/py3venv/lib/python3.5/site-packages/mxnet/libmxnet.so(+0x31fe41) [0x7f7f345d7e41]\n[bt] (2) /home/kevin/workspace/pyvenv/py3venv/lib/python3.5/site-packages/mxnet/libmxnet.so(+0x29eea63) [0x7f7f36ca6a63]\n[bt] (3) /home/kevin/workspace/pyvenv/py3venv/lib/python3.5/site-packages/mxnet/libmxnet.so(+0x29f3315) [0x7f7f36cab315]\n[bt] (4) /home/kevin/workspace/pyvenv/py3venv/lib/python3.5/site-packages/mxnet/libmxnet.so(+0x459114) [0x7f7f34711114]\n[bt] (5) /home/kevin/workspace/pyvenv/py3venv/lib/python3.5/site-packages/mxnet/libmxnet.so(+0x2508b0d) [0x7f7f367c0b0d]\n[bt] (6) /home/kevin/workspace/pyvenv/py3venv/lib/python3.5/site-packages/mxnet/libmxnet.so(+0x2508fe3) [0x7f7f367c0fe3]\n[bt] (7) /home/kevin/workspace/pyvenv/py3venv/lib/python3.5/site-packages/mxnet/libmxnet.so(+0x2480fbd) [0x7f7f36738fbd]\n[bt] (8) /home/kevin/workspace/pyvenv/py3venv/lib/python3.5/site-packages/mxnet/libmxnet.so(+0x2480fa7) [0x7f7f36738fa7]\n[bt] (9) /home/kevin/workspace/pyvenv/py3venv/lib/python3.5/site-packages/mxnet/libmxnet.so(+0x2480fa7) [0x7f7f36738fa7]\n\n"
     ]
    }
   ],
   "source": [
    "train(net_type='vgg_gluon', trainer=get_trainer(vgg_net), epochs=1)"
   ]
  },
  {
   "cell_type": "markdown",
   "metadata": {},
   "source": [
    "# Test"
   ]
  },
  {
   "cell_type": "code",
   "execution_count": null,
   "metadata": {
    "collapsed": true
   },
   "outputs": [],
   "source": [
    "from statiser import Statistics"
   ]
  },
  {
   "cell_type": "code",
   "execution_count": null,
   "metadata": {
    "collapsed": true,
    "scrolled": true
   },
   "outputs": [],
   "source": [
    "#P310 上运行需要很长时间，且会跑死\n",
    "#vgg_net.load_parameters(\"/home/kevin/Downloads/devlab.zte/vgg-net-params-2018-08-31_18-20-37\", ctx=ctx)"
   ]
  },
  {
   "cell_type": "code",
   "execution_count": null,
   "metadata": {
    "collapsed": true
   },
   "outputs": [],
   "source": [
    "train_lab_nd[:10].asnumpy()"
   ]
  },
  {
   "cell_type": "code",
   "execution_count": null,
   "metadata": {
    "collapsed": true
   },
   "outputs": [],
   "source": [
    "net(train_img_nd[:10],net_type='mlp').argmax(axis=1).asnumpy()"
   ]
  },
  {
   "cell_type": "code",
   "execution_count": null,
   "metadata": {
    "collapsed": true,
    "scrolled": false
   },
   "outputs": [],
   "source": [
    "from statiser import Statistics\n",
    "\n",
    "tr1 = Statistics(net(train_img_nd,net_type='wb').argmax(axis=1).asnumpy(), train_lab_nd.asnumpy())\n",
    "tr1.show()\n",
    "tr2 = Statistics(net(train_img_nd,net_type='mlp').argmax(axis=1).asnumpy(), train_lab_nd.asnumpy())\n",
    "tr2.show()\n",
    "tr3 = Statistics(net(train_img_nd,net_type='mlp_gluon').argmax(axis=1).asnumpy(), train_lab_nd.asnumpy())\n",
    "tr3.show()\n",
    "tr4 = Statistics(net(train_img_nd[:100],net_type='lenet').argmax(axis=1).asnumpy(), train_lab_nd[:100].asnumpy())\n",
    "tr4.show()\n",
    "\n",
    "te1 = Statistics(net(test_img_nd,net_type='wb').argmax(axis=1).asnumpy(), test_lab_nd.asnumpy())\n",
    "te1.show()\n",
    "te2 = Statistics(net(test_img_nd,net_type='mlp').argmax(axis=1).asnumpy(), test_lab_nd.asnumpy())\n",
    "te2.show()\n",
    "te3 = Statistics(net(test_img_nd,net_type='mlp_gluon').argmax(axis=1).asnumpy(), test_lab_nd.asnumpy())\n",
    "te3.show()\n",
    "te4 = Statistics(net(test_img_nd[:100],net_type='lenet').argmax(axis=1).asnumpy(), test_lab_nd[:100].asnumpy())\n",
    "te4.show()\n",
    "\n",
    "plt.plot(range(10),tr1.Recall(),'r')\n",
    "plt.plot(range(10),tr1.Precision(),'g')\n",
    "plt.plot(range(10),te1.Recall(),'b')\n",
    "plt.plot(range(10),te1.Precision(),'k')\n",
    "plt.show()"
   ]
  },
  {
   "cell_type": "code",
   "execution_count": null,
   "metadata": {
    "collapsed": true
   },
   "outputs": [],
   "source": []
  }
 ],
 "metadata": {
  "kernelspec": {
   "display_name": "Python 3",
   "language": "python",
   "name": "python3"
  },
  "language_info": {
   "codemirror_mode": {
    "name": "ipython",
    "version": 3
   },
   "file_extension": ".py",
   "mimetype": "text/x-python",
   "name": "python",
   "nbconvert_exporter": "python",
   "pygments_lexer": "ipython3",
   "version": "3.5.2"
  },
  "toc": {
   "nav_menu": {},
   "number_sections": false,
   "sideBar": true,
   "skip_h1_title": false,
   "toc_cell": false,
   "toc_position": {
    "height": "816px",
    "left": "0px",
    "right": "1471px",
    "top": "107px",
    "width": "209px"
   },
   "toc_section_display": "block",
   "toc_window_display": true
  }
 },
 "nbformat": 4,
 "nbformat_minor": 2
}
