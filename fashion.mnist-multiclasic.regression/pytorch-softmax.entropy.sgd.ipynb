{
 "cells": [
  {
   "cell_type": "code",
   "execution_count": 1,
   "metadata": {},
   "outputs": [],
   "source": [
    "import torch\n",
    "import torch.nn as nn\n",
    "from dataloader import DataLoader\n",
    "import numpy as np\n",
    "import datetime\n",
    "import matplotlib.pylab as plt"
   ]
  },
  {
   "cell_type": "markdown",
   "metadata": {},
   "source": [
    "# Data"
   ]
  },
  {
   "cell_type": "code",
   "execution_count": 2,
   "metadata": {},
   "outputs": [],
   "source": [
    "dl = DataLoader('~/.datasets/Han.Xiao/fashion-mnist/')\n",
    "train_img,train_labels = dl.get_data(kind='train')\n",
    "test_img,test_labels = dl.get_data(kind='t10k')"
   ]
  },
  {
   "cell_type": "code",
   "execution_count": 3,
   "metadata": {},
   "outputs": [
    {
     "data": {
      "image/png": "[encoded data removed]",
      "text/plain": [
       "<matplotlib.figure.Figure at 0x7ff5e97f0c88>"
      ]
     },
     "metadata": {},
     "output_type": "display_data"
    },
    {
     "data": {
      "text/plain": [
       "[['ankle boot'],\n",
       " ['t-shirt'],\n",
       " ['t-shirt'],\n",
       " ['dress,'],\n",
       " ['t-shirt'],\n",
       " ['pullover'],\n",
       " ['sneaker'],\n",
       " ['pullover'],\n",
       " ['sandal'],\n",
       " ['sandal']]"
      ]
     },
     "execution_count": 3,
     "metadata": {},
     "output_type": "execute_result"
    }
   ],
   "source": [
    "DataLoader.show_images(train_img[0:10])\n",
    "DataLoader.get_labels(train_labels[0:10])"
   ]
  },
  {
   "cell_type": "code",
   "execution_count": 4,
   "metadata": {},
   "outputs": [],
   "source": [
    "train_samples, in_features = train_img.shape\n",
    "out_classes = 10"
   ]
  },
  {
   "cell_type": "markdown",
   "metadata": {},
   "source": [
    "## PyTorch Data"
   ]
  },
  {
   "cell_type": "code",
   "execution_count": 5,
   "metadata": {},
   "outputs": [],
   "source": [
    "train_img = torch.from_numpy(train_img).float()\n",
    "train_lab = torch.from_numpy(train_labels).float().view(-1,1)\n",
    "test_img = torch.from_numpy(test_img).float()\n",
    "test_lab = torch.from_numpy(test_labels).float().view(-1, 1)"
   ]
  },
  {
   "cell_type": "code",
   "execution_count": 6,
   "metadata": {},
   "outputs": [],
   "source": [
    "# 归一化\n",
    "train_img_nd = train_img / 255\n",
    "test_img_nd = test_img / 255\n",
    "\n",
    "train_data = torch.cat((train_img_nd, train_lab), 1)\n",
    "test_data = torch.cat((test_img_nd, test_lab), 1)"
   ]
  },
  {
   "cell_type": "code",
   "execution_count": 7,
   "metadata": {},
   "outputs": [],
   "source": [
    "def data_iter(batch_size=100, kind='train'):\n",
    "    data_sets = train_data if kind=='train' else test_data\n",
    "    return iter(torch.split(data_sets, batch_size))"
   ]
  },
  {
   "cell_type": "code",
   "execution_count": 8,
   "metadata": {},
   "outputs": [],
   "source": [
    "def accuracy(y_softmax, y):\n",
    "    _, y_pred = torch.max(y_softmax, 1, keepdim=True)\n",
    "    y = y.view(-1,1)\n",
    "    accu = torch.sum(y_pred==y).item()\n",
    "    return accu"
   ]
  },
  {
   "cell_type": "markdown",
   "metadata": {},
   "source": [
    "# Model\n",
    "$$\\boldsymbol{\\hat y} = net({\\boldsymbol x}) = softmax({\\boldsymbol{x}}\\ {W} + {\\boldsymbol{b}})$$"
   ]
  },
  {
   "cell_type": "code",
   "execution_count": 9,
   "metadata": {},
   "outputs": [],
   "source": [
    "class LogisticRegression(nn.Module):\n",
    "    def __init__(self, in_features, out_classes):\n",
    "        super().__init__()\n",
    "        self.linear = nn.Linear(in_features, out_classes)\n",
    "        self.softmax = nn.Softmax(dim=1)\n",
    "    \n",
    "    def forward(self, X):\n",
    "        out = self.linear(X)\n",
    "        out = self.softmax(out)\n",
    "        return out"
   ]
  },
  {
   "cell_type": "code",
   "execution_count": 10,
   "metadata": {},
   "outputs": [],
   "source": [
    "model = LogisticRegression(in_features, out_classes)\n",
    "loss_fn = nn.CrossEntropyLoss()\n",
    "optimizer = torch.optim.SGD(model.parameters(), lr=0.3, momentum=0.8)"
   ]
  },
  {
   "cell_type": "markdown",
   "metadata": {},
   "source": [
    "# Train"
   ]
  },
  {
   "cell_type": "code",
   "execution_count": 11,
   "metadata": {},
   "outputs": [
    {
     "name": "stdout",
     "output_type": "stream",
     "text": [
      "epoch[1] loss: 0.0173, accuracy:75.5233%\n",
      "epoch[2] loss: 0.0167, accuracy:80.5267%\n",
      "epoch[3] loss: 0.0164, accuracy:83.7633%\n",
      "epoch[4] loss: 0.0163, accuracy:84.6017%\n",
      "epoch[5] loss: 0.0162, accuracy:85.0483%\n",
      "runing time: 0:00:00.758362\n"
     ]
    }
   ],
   "source": [
    "epochs = 5\n",
    "t1 = datetime.datetime.now()\n",
    "\n",
    "for e in range(epochs):\n",
    "    train_loss = 0\n",
    "    train_accu = 0\n",
    "    \n",
    "    for data in data_iter():\n",
    "        X = data[:, :-1]\n",
    "        y = data[:,-1].long()\n",
    "        \n",
    "        y_pred = model(X)\n",
    "        loss = loss_fn(y_pred, y)\n",
    "        \n",
    "        optimizer.zero_grad()\n",
    "        loss.backward()\n",
    "        optimizer.step()\n",
    "        \n",
    "        train_loss += loss.item()\n",
    "        train_accu += accuracy(y_pred, y)\n",
    "    \n",
    "    train_loss /= train_samples\n",
    "    train_accu /= train_samples\n",
    "    \n",
    "    print(\"epoch[{}] loss: {:.4f}, accuracy:{:.4f}%\".format(e+1, train_loss, train_accu*100))\n",
    "    \n",
    "print(\"runing time: {}\".format(datetime.datetime.now()-t1))"
   ]
  },
  {
   "cell_type": "markdown",
   "metadata": {},
   "source": [
    "# Test"
   ]
  },
  {
   "cell_type": "code",
   "execution_count": 12,
   "metadata": {},
   "outputs": [
    {
     "name": "stdout",
     "output_type": "stream",
     "text": [
      "accuracy:79.9700%\n"
     ]
    }
   ],
   "source": [
    "model.eval()\n",
    "\n",
    "y_pred = model(test_img)\n",
    "y = test_lab.long()\n",
    "accu = accuracy(y_pred, y)\n",
    "\n",
    "print(\"accuracy:{:.4f}%\".format(accu/len(test_labels)*100))"
   ]
  }
 ],
 "metadata": {
  "kernelspec": {
   "display_name": "Python 3",
   "language": "python",
   "name": "python3"
  },
  "language_info": {
   "codemirror_mode": {
    "name": "ipython",
    "version": 3
   },
   "file_extension": ".py",
   "mimetype": "text/x-python",
   "name": "python",
   "nbconvert_exporter": "python",
   "pygments_lexer": "ipython3",
   "version": "3.6.4"
  }
 },
 "nbformat": 4,
 "nbformat_minor": 2
}
