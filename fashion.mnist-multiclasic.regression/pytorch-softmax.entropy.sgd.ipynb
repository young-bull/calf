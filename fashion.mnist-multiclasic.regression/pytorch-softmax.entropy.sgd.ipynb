{
 "cells": [
  {
   "cell_type": "code",
   "execution_count": 1,
   "metadata": {
    "collapsed": true
   },
   "outputs": [],
   "source": [
    "import torch\n",
    "import torch.nn as nn\n",
    "from dataloader import DataLoader\n",
    "import numpy as np\n",
    "import datetime\n",
    "import matplotlib.pylab as plt"
   ]
  },
  {
   "cell_type": "markdown",
   "metadata": {},
   "source": [
    "# Data"
   ]
  },
  {
   "cell_type": "code",
   "execution_count": 2,
   "metadata": {
    "collapsed": true
   },
   "outputs": [],
   "source": [
    "dl = DataLoader('~/.datasets/Han.Xiao/fashion-mnist/')\n",
    "train_img,train_labels = dl.get_data(kind='train')\n",
    "test_img,test_labels = dl.get_data(kind='t10k')"
   ]
  },
  {
   "cell_type": "code",
   "execution_count": 3,
   "metadata": {},
   "outputs": [
    {
     "data": {
      "image/png": "[encoded data removed]",
      "text/plain": [
       "<matplotlib.figure.Figure at 0x7f03d3323780>"
      ]
     },
     "metadata": {},
     "output_type": "display_data"
    },
    {
     "data": {
      "text/plain": [
       "[['pullover'],\n",
       " ['ankle boot'],\n",
       " ['shirt'],\n",
       " ['t-shirt'],\n",
       " ['dress,'],\n",
       " ['coat'],\n",
       " ['coat'],\n",
       " ['sandal'],\n",
       " ['coat'],\n",
       " ['bag']]"
      ]
     },
     "execution_count": 3,
     "metadata": {},
     "output_type": "execute_result"
    }
   ],
   "source": [
    "DataLoader.show_images(train_img[0:10])\n",
    "DataLoader.get_labels(train_labels[0:10])"
   ]
  },
  {
   "cell_type": "code",
   "execution_count": 4,
   "metadata": {
    "collapsed": true
   },
   "outputs": [],
   "source": [
    "train_samples, in_features = train_img.shape\n",
    "out_classes = 10"
   ]
  },
  {
   "cell_type": "markdown",
   "metadata": {},
   "source": [
    "## PyTorch Data"
   ]
  },
  {
   "cell_type": "code",
   "execution_count": 5,
   "metadata": {},
   "outputs": [],
   "source": [
    "train_img = torch.from_numpy(train_img).float()\n",
    "train_lab = torch.from_numpy(train_labels).float().view(-1,1)\n",
    "test_img = torch.from_numpy(test_img).float()\n",
    "test_lab = torch.from_numpy(test_labels).float().view(-1, 1)"
   ]
  },
  {
   "cell_type": "code",
   "execution_count": 6,
   "metadata": {
    "collapsed": true
   },
   "outputs": [],
   "source": [
    "# 归一化\n",
    "train_img_nd = train_img / 255\n",
    "test_img_nd = test_img / 255\n",
    "\n",
    "train_data = torch.cat((train_img_nd, train_lab), 1)\n",
    "test_data = torch.cat((test_img_nd, test_lab), 1)"
   ]
  },
  {
   "cell_type": "code",
   "execution_count": 7,
   "metadata": {
    "collapsed": true
   },
   "outputs": [],
   "source": [
    "def data_iter(batch_size=100, kind='train'):\n",
    "    data_sets = train_data if kind=='train' else test_data\n",
    "    return iter(torch.split(data_sets, batch_size))"
   ]
  },
  {
   "cell_type": "code",
   "execution_count": 8,
   "metadata": {
    "collapsed": true
   },
   "outputs": [],
   "source": [
    "def accuracy(y_softmax, y):\n",
    "    _, y_pred = torch.max(y_softmax, 1, keepdim=True)\n",
    "    y = y.view(-1,1)\n",
    "    accu = torch.sum(y_pred==y).item()\n",
    "    return accu"
   ]
  },
  {
   "cell_type": "markdown",
   "metadata": {},
   "source": [
    "# Model\n",
    "$$\\boldsymbol{\\hat y} = net({\\boldsymbol x}) = softmax({\\boldsymbol{x}}\\ {W} + {\\boldsymbol{b}})$$"
   ]
  },
  {
   "cell_type": "code",
   "execution_count": 9,
   "metadata": {
    "collapsed": true
   },
   "outputs": [],
   "source": [
    "class LogisticRegression(nn.Module):\n",
    "    def __init__(self, in_features, out_classes):\n",
    "        super().__init__()\n",
    "        self.linear = nn.Linear(in_features, out_classes)\n",
    "        self.softmax = nn.Softmax(dim=1)\n",
    "    \n",
    "    def forward(self, X):\n",
    "        out = self.linear(X)\n",
    "        out = self.softmax(out)\n",
    "        return out"
   ]
  },
  {
   "cell_type": "code",
   "execution_count": 20,
   "metadata": {
    "collapsed": true
   },
   "outputs": [],
   "source": [
    "model = LogisticRegression(in_features, out_classes)\n",
    "loss_fn = nn.CrossEntropyLoss()\n",
    "optimizer = torch.optim.SGD(model.parameters(), lr=0.1, momentum=0.9)"
   ]
  },
  {
   "cell_type": "markdown",
   "metadata": {},
   "source": [
    "# Train"
   ]
  },
  {
   "cell_type": "code",
   "execution_count": 21,
   "metadata": {},
   "outputs": [
    {
     "name": "stdout",
     "output_type": "stream",
     "text": [
      "epoch[1] loss: 0.0175, accuracy:72.9150%\n",
      "epoch[2] loss: 0.0168, accuracy:79.8317%\n",
      "epoch[3] loss: 0.0167, accuracy:80.5800%\n",
      "epoch[4] loss: 0.0166, accuracy:81.0383%\n",
      "epoch[5] loss: 0.0166, accuracy:81.3100%\n",
      "epoch[6] loss: 0.0164, accuracy:83.1550%\n",
      "epoch[7] loss: 0.0163, accuracy:84.6617%\n",
      "epoch[8] loss: 0.0162, accuracy:84.9783%\n",
      "epoch[9] loss: 0.0162, accuracy:85.2267%\n",
      "epoch[10] loss: 0.0162, accuracy:85.4133%\n",
      "epoch[11] loss: 0.0161, accuracy:85.5450%\n",
      "epoch[12] loss: 0.0161, accuracy:85.7267%\n",
      "epoch[13] loss: 0.0161, accuracy:85.8467%\n",
      "epoch[14] loss: 0.0161, accuracy:85.9967%\n",
      "epoch[15] loss: 0.0161, accuracy:86.0383%\n",
      "epoch[16] loss: 0.0161, accuracy:86.1383%\n",
      "epoch[17] loss: 0.0161, accuracy:86.2067%\n",
      "epoch[18] loss: 0.0161, accuracy:86.2767%\n",
      "epoch[19] loss: 0.0161, accuracy:86.3067%\n",
      "epoch[20] loss: 0.0161, accuracy:86.3933%\n",
      "epoch[21] loss: 0.0160, accuracy:86.4583%\n",
      "epoch[22] loss: 0.0160, accuracy:86.5100%\n",
      "epoch[23] loss: 0.0160, accuracy:86.5567%\n",
      "epoch[24] loss: 0.0160, accuracy:86.6250%\n",
      "epoch[25] loss: 0.0160, accuracy:86.6717%\n",
      "epoch[26] loss: 0.0160, accuracy:86.7483%\n",
      "epoch[27] loss: 0.0160, accuracy:86.8117%\n",
      "epoch[28] loss: 0.0160, accuracy:86.8667%\n",
      "epoch[29] loss: 0.0160, accuracy:86.9100%\n",
      "epoch[30] loss: 0.0160, accuracy:86.9483%\n",
      "epoch[31] loss: 0.0160, accuracy:86.9900%\n",
      "epoch[32] loss: 0.0160, accuracy:87.0183%\n",
      "epoch[33] loss: 0.0160, accuracy:87.0583%\n",
      "epoch[34] loss: 0.0160, accuracy:87.1117%\n",
      "epoch[35] loss: 0.0160, accuracy:87.1600%\n",
      "epoch[36] loss: 0.0160, accuracy:87.2017%\n",
      "epoch[37] loss: 0.0160, accuracy:87.2600%\n",
      "epoch[38] loss: 0.0160, accuracy:87.2900%\n",
      "epoch[39] loss: 0.0160, accuracy:87.3200%\n",
      "epoch[40] loss: 0.0160, accuracy:87.3533%\n",
      "epoch[41] loss: 0.0160, accuracy:87.3883%\n",
      "epoch[42] loss: 0.0159, accuracy:87.4250%\n",
      "epoch[43] loss: 0.0159, accuracy:87.4617%\n",
      "epoch[44] loss: 0.0159, accuracy:87.4667%\n",
      "epoch[45] loss: 0.0159, accuracy:87.4850%\n",
      "epoch[46] loss: 0.0159, accuracy:87.5033%\n",
      "epoch[47] loss: 0.0159, accuracy:87.5333%\n",
      "epoch[48] loss: 0.0159, accuracy:87.5583%\n",
      "epoch[49] loss: 0.0159, accuracy:87.5867%\n",
      "epoch[50] loss: 0.0159, accuracy:87.6150%\n",
      "epoch[51] loss: 0.0159, accuracy:87.6433%\n",
      "epoch[52] loss: 0.0159, accuracy:87.6600%\n",
      "epoch[53] loss: 0.0159, accuracy:87.6750%\n",
      "epoch[54] loss: 0.0159, accuracy:87.7050%\n",
      "epoch[55] loss: 0.0159, accuracy:87.7250%\n",
      "epoch[56] loss: 0.0159, accuracy:87.7517%\n",
      "epoch[57] loss: 0.0159, accuracy:87.7750%\n",
      "epoch[58] loss: 0.0159, accuracy:87.7917%\n",
      "epoch[59] loss: 0.0159, accuracy:87.8167%\n",
      "epoch[60] loss: 0.0159, accuracy:87.8383%\n",
      "epoch[61] loss: 0.0159, accuracy:87.8600%\n",
      "epoch[62] loss: 0.0159, accuracy:87.8733%\n",
      "epoch[63] loss: 0.0159, accuracy:87.8917%\n",
      "epoch[64] loss: 0.0159, accuracy:87.9133%\n",
      "epoch[65] loss: 0.0159, accuracy:87.9283%\n",
      "epoch[66] loss: 0.0159, accuracy:87.9433%\n",
      "epoch[67] loss: 0.0159, accuracy:87.9833%\n",
      "epoch[68] loss: 0.0159, accuracy:87.9867%\n",
      "epoch[69] loss: 0.0159, accuracy:87.9950%\n",
      "epoch[70] loss: 0.0159, accuracy:88.0083%\n",
      "epoch[71] loss: 0.0159, accuracy:88.0233%\n",
      "epoch[72] loss: 0.0159, accuracy:88.0433%\n",
      "epoch[73] loss: 0.0159, accuracy:88.0617%\n",
      "epoch[74] loss: 0.0159, accuracy:88.0667%\n",
      "epoch[75] loss: 0.0159, accuracy:88.0783%\n",
      "epoch[76] loss: 0.0159, accuracy:88.0883%\n",
      "epoch[77] loss: 0.0159, accuracy:88.1150%\n",
      "epoch[78] loss: 0.0159, accuracy:88.1183%\n",
      "epoch[79] loss: 0.0159, accuracy:88.1367%\n",
      "epoch[80] loss: 0.0159, accuracy:88.1600%\n",
      "epoch[81] loss: 0.0159, accuracy:88.1683%\n",
      "epoch[82] loss: 0.0159, accuracy:88.1850%\n",
      "epoch[83] loss: 0.0159, accuracy:88.2000%\n",
      "epoch[84] loss: 0.0159, accuracy:88.2117%\n",
      "epoch[85] loss: 0.0159, accuracy:88.2150%\n",
      "epoch[86] loss: 0.0159, accuracy:88.2217%\n",
      "epoch[87] loss: 0.0159, accuracy:88.2433%\n",
      "epoch[88] loss: 0.0159, accuracy:88.2600%\n",
      "epoch[89] loss: 0.0159, accuracy:88.2733%\n",
      "epoch[90] loss: 0.0159, accuracy:88.2900%\n",
      "epoch[91] loss: 0.0159, accuracy:88.2917%\n",
      "epoch[92] loss: 0.0159, accuracy:88.3017%\n",
      "epoch[93] loss: 0.0159, accuracy:88.3117%\n",
      "epoch[94] loss: 0.0159, accuracy:88.3217%\n",
      "epoch[95] loss: 0.0159, accuracy:88.3267%\n",
      "epoch[96] loss: 0.0159, accuracy:88.3367%\n",
      "epoch[97] loss: 0.0159, accuracy:88.3550%\n",
      "epoch[98] loss: 0.0159, accuracy:88.3617%\n",
      "epoch[99] loss: 0.0159, accuracy:88.3750%\n",
      "epoch[100] loss: 0.0159, accuracy:88.3817%\n",
      "epoch[101] loss: 0.0159, accuracy:88.3967%\n",
      "epoch[102] loss: 0.0159, accuracy:88.4050%\n",
      "epoch[103] loss: 0.0158, accuracy:88.4183%\n",
      "epoch[104] loss: 0.0158, accuracy:88.4300%\n",
      "epoch[105] loss: 0.0158, accuracy:88.4433%\n",
      "epoch[106] loss: 0.0158, accuracy:88.4517%\n",
      "epoch[107] loss: 0.0158, accuracy:88.4533%\n",
      "epoch[108] loss: 0.0158, accuracy:88.4717%\n",
      "epoch[109] loss: 0.0158, accuracy:88.4817%\n",
      "epoch[110] loss: 0.0158, accuracy:88.4883%\n",
      "epoch[111] loss: 0.0158, accuracy:88.4967%\n",
      "epoch[112] loss: 0.0158, accuracy:88.5050%\n",
      "epoch[113] loss: 0.0158, accuracy:88.5117%\n",
      "epoch[114] loss: 0.0158, accuracy:88.5133%\n",
      "epoch[115] loss: 0.0158, accuracy:88.5200%\n",
      "epoch[116] loss: 0.0158, accuracy:88.5300%\n",
      "epoch[117] loss: 0.0158, accuracy:88.5400%\n",
      "epoch[118] loss: 0.0158, accuracy:88.5400%\n",
      "epoch[119] loss: 0.0158, accuracy:88.5433%\n",
      "epoch[120] loss: 0.0158, accuracy:88.5500%\n",
      "epoch[121] loss: 0.0158, accuracy:88.5550%\n",
      "epoch[122] loss: 0.0158, accuracy:88.5683%\n",
      "epoch[123] loss: 0.0158, accuracy:88.5750%\n",
      "epoch[124] loss: 0.0158, accuracy:88.5767%\n",
      "epoch[125] loss: 0.0158, accuracy:88.5783%\n",
      "epoch[126] loss: 0.0158, accuracy:88.5833%\n",
      "epoch[127] loss: 0.0158, accuracy:88.5883%\n",
      "epoch[128] loss: 0.0158, accuracy:88.5950%\n",
      "epoch[129] loss: 0.0158, accuracy:88.6017%\n",
      "epoch[130] loss: 0.0158, accuracy:88.6067%\n",
      "epoch[131] loss: 0.0158, accuracy:88.6167%\n",
      "epoch[132] loss: 0.0158, accuracy:88.6217%\n",
      "epoch[133] loss: 0.0158, accuracy:88.6233%\n",
      "epoch[134] loss: 0.0158, accuracy:88.6317%\n",
      "epoch[135] loss: 0.0158, accuracy:88.6433%\n",
      "epoch[136] loss: 0.0158, accuracy:88.6517%\n",
      "epoch[137] loss: 0.0158, accuracy:88.6517%\n",
      "epoch[138] loss: 0.0158, accuracy:88.6617%\n",
      "epoch[139] loss: 0.0158, accuracy:88.6750%\n",
      "epoch[140] loss: 0.0158, accuracy:88.6833%\n",
      "epoch[141] loss: 0.0158, accuracy:88.6933%\n",
      "epoch[142] loss: 0.0158, accuracy:88.7100%\n",
      "epoch[143] loss: 0.0158, accuracy:88.7150%\n",
      "epoch[144] loss: 0.0158, accuracy:88.7200%\n",
      "epoch[145] loss: 0.0158, accuracy:88.7333%\n",
      "epoch[146] loss: 0.0158, accuracy:88.7367%\n",
      "epoch[147] loss: 0.0158, accuracy:88.7400%\n",
      "epoch[148] loss: 0.0158, accuracy:88.7533%\n",
      "epoch[149] loss: 0.0158, accuracy:88.7600%\n",
      "epoch[150] loss: 0.0158, accuracy:88.7650%\n",
      "epoch[151] loss: 0.0158, accuracy:88.7700%\n",
      "epoch[152] loss: 0.0158, accuracy:88.7767%\n",
      "epoch[153] loss: 0.0158, accuracy:88.7833%\n",
      "epoch[154] loss: 0.0158, accuracy:88.7917%\n",
      "epoch[155] loss: 0.0158, accuracy:88.7950%\n",
      "epoch[156] loss: 0.0158, accuracy:88.8050%\n",
      "epoch[157] loss: 0.0158, accuracy:88.8183%\n",
      "epoch[158] loss: 0.0158, accuracy:88.8300%\n",
      "epoch[159] loss: 0.0158, accuracy:88.8333%\n",
      "epoch[160] loss: 0.0158, accuracy:88.8383%\n",
      "epoch[161] loss: 0.0158, accuracy:88.8450%\n",
      "epoch[162] loss: 0.0158, accuracy:88.8500%\n",
      "epoch[163] loss: 0.0158, accuracy:88.8600%\n",
      "epoch[164] loss: 0.0158, accuracy:88.8683%\n",
      "epoch[165] loss: 0.0158, accuracy:88.8700%\n",
      "epoch[166] loss: 0.0158, accuracy:88.8750%\n",
      "epoch[167] loss: 0.0158, accuracy:88.8817%\n",
      "epoch[168] loss: 0.0158, accuracy:88.8850%\n",
      "epoch[169] loss: 0.0158, accuracy:88.8967%\n",
      "epoch[170] loss: 0.0158, accuracy:88.9083%\n",
      "epoch[171] loss: 0.0158, accuracy:88.9067%\n",
      "epoch[172] loss: 0.0158, accuracy:88.9133%\n",
      "epoch[173] loss: 0.0158, accuracy:88.9167%\n",
      "epoch[174] loss: 0.0158, accuracy:88.9267%\n",
      "epoch[175] loss: 0.0158, accuracy:88.9367%\n",
      "epoch[176] loss: 0.0158, accuracy:88.9400%\n",
      "epoch[177] loss: 0.0158, accuracy:88.9433%\n",
      "epoch[178] loss: 0.0158, accuracy:88.9483%\n",
      "epoch[179] loss: 0.0158, accuracy:88.9567%\n",
      "epoch[180] loss: 0.0158, accuracy:88.9600%\n",
      "epoch[181] loss: 0.0158, accuracy:88.9633%\n",
      "epoch[182] loss: 0.0158, accuracy:88.9717%\n",
      "epoch[183] loss: 0.0158, accuracy:88.9783%\n",
      "epoch[184] loss: 0.0158, accuracy:88.9900%\n",
      "epoch[185] loss: 0.0158, accuracy:88.9983%\n",
      "epoch[186] loss: 0.0158, accuracy:89.0000%\n",
      "epoch[187] loss: 0.0158, accuracy:89.0067%\n",
      "epoch[188] loss: 0.0158, accuracy:89.0100%\n",
      "epoch[189] loss: 0.0158, accuracy:89.0133%\n",
      "epoch[190] loss: 0.0158, accuracy:89.0133%\n",
      "epoch[191] loss: 0.0158, accuracy:89.0067%\n",
      "epoch[192] loss: 0.0158, accuracy:89.0150%\n",
      "epoch[193] loss: 0.0158, accuracy:89.0217%\n",
      "epoch[194] loss: 0.0158, accuracy:89.0283%\n"
     ]
    },
    {
     "name": "stdout",
     "output_type": "stream",
     "text": [
      "epoch[195] loss: 0.0158, accuracy:89.0317%\n",
      "epoch[196] loss: 0.0158, accuracy:89.0350%\n",
      "epoch[197] loss: 0.0158, accuracy:89.0383%\n",
      "epoch[198] loss: 0.0158, accuracy:89.0400%\n",
      "epoch[199] loss: 0.0158, accuracy:89.0467%\n",
      "epoch[200] loss: 0.0158, accuracy:89.0550%\n",
      "runing time: 0:00:34.500852\n"
     ]
    }
   ],
   "source": [
    "epochs = 200\n",
    "t1 = datetime.datetime.now()\n",
    "\n",
    "for e in range(epochs):\n",
    "    train_loss = 0\n",
    "    train_accu = 0\n",
    "    \n",
    "    for data in data_iter():\n",
    "        X = data[:, :-1]\n",
    "        y = data[:,-1].long()\n",
    "        \n",
    "        y_pred = model(X)\n",
    "        loss = loss_fn(y_pred, y)\n",
    "        \n",
    "        optimizer.zero_grad()\n",
    "        loss.backward()\n",
    "        optimizer.step()\n",
    "        \n",
    "        train_loss += loss.item()\n",
    "        train_accu += accuracy(y_pred, y)\n",
    "    \n",
    "    train_loss /= train_samples\n",
    "    train_accu /= train_samples\n",
    "    \n",
    "    print(\"epoch[{}] loss: {:.4f}, accuracy:{:.4f}%\".format(e+1, train_loss, train_accu*100))\n",
    "    \n",
    "print(\"runing time: {}\".format(datetime.datetime.now()-t1))"
   ]
  },
  {
   "cell_type": "markdown",
   "metadata": {},
   "source": [
    "# Test"
   ]
  },
  {
   "cell_type": "code",
   "execution_count": 12,
   "metadata": {},
   "outputs": [
    {
     "name": "stdout",
     "output_type": "stream",
     "text": [
      "accuracy:79.4100%\n"
     ]
    }
   ],
   "source": [
    "model.eval()\n",
    "\n",
    "y_pred = model(test_img)\n",
    "y = test_lab.long()\n",
    "accu = accuracy(y_pred, y)\n",
    "\n",
    "print(\"accuracy:{:.4f}%\".format(accu/len(test_labels)*100))"
   ]
  },
  {
   "cell_type": "code",
   "execution_count": 13,
   "metadata": {
    "scrolled": false
   },
   "outputs": [
    {
     "data": {
      "image/png": "[encoded data removed]",
      "text/plain": [
       "<matplotlib.figure.Figure at 0x7f03cd727160>"
      ]
     },
     "metadata": {},
     "output_type": "display_data"
    },
    {
     "data": {
      "image/png": "[encoded data removed]",
      "text/plain": [
       "<matplotlib.figure.Figure at 0x7f03cd7275c0>"
      ]
     },
     "metadata": {},
     "output_type": "display_data"
    },
    {
     "data": {
      "image/png": "[encoded data removed]",
      "text/plain": [
       "<matplotlib.figure.Figure at 0x7f03cdc0d080>"
      ]
     },
     "metadata": {},
     "output_type": "display_data"
    }
   ],
   "source": [
    "from statiser import Statistics\n",
    "y = train_lab.detach().numpy()\n",
    "train_statistics = Statistics(model(train_img_nd).detach().numpy().argmax(axis=1), \n",
    "                              y.reshape(len(y),))\n",
    "\n",
    "y = test_lab.detach().numpy()\n",
    "test_statistics = Statistics(model(test_img_nd).detach().numpy().argmax(axis=1), \n",
    "                             y.reshape(len(y),))\n",
    "\n",
    "train_statistics.show()\n",
    "test_statistics.show()\n",
    "plt.plot(range(10),train_statistics.Recall(),'r')\n",
    "plt.plot(range(10),train_statistics.Precision(),'g')\n",
    "plt.plot(range(10),test_statistics.Recall(),'b')\n",
    "plt.plot(range(10),test_statistics.Precision(),'k')\n",
    "plt.show()"
   ]
  },
  {
   "cell_type": "code",
   "execution_count": null,
   "metadata": {},
   "outputs": [],
   "source": []
  },
  {
   "cell_type": "code",
   "execution_count": null,
   "metadata": {
    "collapsed": true
   },
   "outputs": [],
   "source": []
  }
 ],
 "metadata": {
  "kernelspec": {
   "display_name": "Python 3",
   "language": "python",
   "name": "python3"
  },
  "language_info": {
   "codemirror_mode": {
    "name": "ipython",
    "version": 3
   },
   "file_extension": ".py",
   "mimetype": "text/x-python",
   "name": "python",
   "nbconvert_exporter": "python",
   "pygments_lexer": "ipython3",
   "version": "3.5.2"
  },
  "toc": {
   "nav_menu": {},
   "number_sections": false,
   "sideBar": true,
   "skip_h1_title": false,
   "toc_cell": false,
   "toc_position": {},
   "toc_section_display": "block",
   "toc_window_display": false
  }
 },
 "nbformat": 4,
 "nbformat_minor": 2
}
